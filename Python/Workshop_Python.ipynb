{
 "cells": [
  {
   "cell_type": "markdown",
   "metadata": {},
   "source": [
    "# Workshop Linux-Python\n",
    "&nbsp;"
   ]
  },
  {
   "cell_type": "markdown",
   "metadata": {},
   "source": [
    "\n",
    "# Objetivos\n",
    "\n",
    "### - Ensinar conceitos básicos sobre Python, sua sintaxe e estrutura\n",
    "\n",
    "### - Ensinar conceitos básicos sobre trabalhos com matrizes e dataframes\n",
    "\n",
    "### - Conceitos básicos, e mais avançados, sobre visualização de dados\n",
    "\n",
    "&nbsp;"
   ]
  },
  {
   "cell_type": "markdown",
   "metadata": {},
   "source": [
    "\n",
    "# Por que Python?\n",
    "\n",
    "\n",
    "### - Fácil de aprender\n",
    "\n",
    "\n",
    "### - É bem documentado e gratis.\n",
    "\n",
    "\n",
    "### - Popular (é fácil de encontrar ajuda na internet), grande comunidade.\n",
    "\n",
    "\n",
    "### - Rápido !?\n",
    "\n",
    "\n",
    "### - Scripts são portáveis (podem ser rodados em qualquer SO).\n",
    "\n",
    "\n",
    "### - Uma grande quantidade de bibliotecas e aplicações.\n",
    "&nbsp;\n"
   ]
  },
  {
   "cell_type": "markdown",
   "metadata": {},
   "source": [
    "\n",
    "# Sintaxe básica\n",
    "\n",
    "\n",
    "### - Python é uma linguagem de \"Alto nível\", isto é, ela é o mais próximo possível da linguagem humana.\n",
    "\n",
    "\n",
    "### - É possível rodar comandos interativamente ou em scripts.\n",
    "&nbsp;\n"
   ]
  },
  {
   "cell_type": "code",
   "execution_count": null,
   "metadata": {},
   "outputs": [],
   "source": [
    "# Primeiro print no Jupyter\n",
    "\n",
    "print(\"Olá, Python!\")"
   ]
  },
  {
   "cell_type": "markdown",
   "metadata": {},
   "source": [
    "&nbsp;\n",
    "# Variáveis\n",
    "\n",
    "\n",
    "### - Uma varíavel é algo que pode ser mudado!!!\n",
    "\n",
    "### - É uma forma de remeter a locação de memória por um programa de computador.\n",
    "\n",
    "### - Ela armazena valores, possui um nome (identificador) e um tipo de dado.\n",
    "\n",
    "### - Enquanto o programa estiver rodando, a variável pode ser acessada e, as vezes, mudada.\n",
    "\n",
    "### -  Python não é uma linguágem  “strongly-typed”, isso significa que o tipo de dados armazenados em variaveis pode ser mudado.\n",
    "&nbsp;\n"
   ]
  },
  {
   "cell_type": "markdown",
   "metadata": {},
   "source": [
    "# Variáveis e idenfiticadores\n",
    "\n",
    "### -  Algumas pessoas confundem variáveis e identificadores.\n",
    "\n",
    "\n",
    "### - Mas identificadores são nomes de variáveis, variáveis possuem outros atributos.\n",
    "\n",
    "\n",
    "### - Identificadores também são utilizados por funções, módulos, bibliotecas, etc...\n",
    "\n",
    "\n",
    "### - Um identificador válido é uma sequencia de caracteres de qualquer tamanho com:\n",
    "\n",
    "### a) Um caractere inicial(um underscore ou letras em maíusculo ou minúsculo).\n",
    "\n",
    "### b) Letras seguintes podem ser qualquer tipo de caractere.\n",
    "\n",
    "### c) Palavras chaves de Python não podem ser utilizadas como identificadores! Ex: and, as, assert, break, class, continue, def, del, elif, else, except, for, if, in, is, lambda, not, or, pass, return, try, with.\n",
    "&nbsp;"
   ]
  },
  {
   "cell_type": "code",
   "execution_count": null,
   "metadata": {
    "collapsed": true
   },
   "outputs": [],
   "source": [
    "# Exemplos de variáveis\n",
    "\n",
    "i = 30\n",
    "J = 32.1\n",
    "\n",
    "uma_string= \"string\""
   ]
  },
  {
   "cell_type": "markdown",
   "metadata": {},
   "source": [
    "# Tipos de dados básicos em Python\n",
    "\n",
    "\n",
    "## Numéricos:\n",
    "\n",
    "### 1. int: integers, ex: 610, 9580\n",
    "\n",
    "### 2. Pontos flutuantes, ex: 42.11, 2.5415e-12\n",
    "\n",
    "### 3. Complexos, ex: x = 2 + 4i\n",
    "\n",
    "## Sequências:\n",
    "\n",
    "### 1. str: Strings (sequencia de caracteres), ex:  “ABCD”, “Olá mundo!”, “C_x-aer”\n",
    "\n",
    "### 2. list\n",
    "\n",
    "### 3. tuple\n",
    "\n",
    "\n",
    "## Booleana: \n",
    "### True or False\n",
    "\n",
    "## Mapping: \n",
    "### dict (dictionary)"
   ]
  },
  {
   "cell_type": "markdown",
   "metadata": {},
   "source": [
    "\n"
   ]
  },
  {
   "cell_type": "markdown",
   "metadata": {},
   "source": [
    "# Números\n",
    "\n",
    "### int (integers): números positivos ou negativos sem ponto decimal."
   ]
  },
  {
   "cell_type": "code",
   "execution_count": null,
   "metadata": {},
   "outputs": [],
   "source": [
    "a_number = 35\n",
    "type(a_number)"
   ]
  },
  {
   "cell_type": "markdown",
   "metadata": {},
   "source": [
    "### - Note que se adicionarmos “ ” o tipo do dado vai mudar, ele não será um integer mas sim uma string.\n",
    "&nbsp;"
   ]
  },
  {
   "cell_type": "code",
   "execution_count": null,
   "metadata": {},
   "outputs": [],
   "source": [
    "a_number = \"35\" \n",
    "type(a_number)"
   ]
  },
  {
   "cell_type": "markdown",
   "metadata": {},
   "source": [
    "### - float (valores de pontos flutuantes): números reais com casas decimais (ex: 23.567) também podem ser notações científicas (1.54e2 – é o mesmo que 1.54 x 100 e o mesmo que 154) \n",
    "&nbsp;"
   ]
  },
  {
   "cell_type": "code",
   "execution_count": null,
   "metadata": {},
   "outputs": [],
   "source": [
    "um_float=23.567\n",
    "type(um_float)"
   ]
  },
  {
   "cell_type": "code",
   "execution_count": null,
   "metadata": {},
   "outputs": [],
   "source": [
    "outro_float = 1.54e20\n",
    "type(outro_float)"
   ]
  },
  {
   "cell_type": "code",
   "execution_count": null,
   "metadata": {},
   "outputs": [],
   "source": [
    "outro_float"
   ]
  },
  {
   "cell_type": "markdown",
   "metadata": {},
   "source": [
    "# Conversões de números\n",
    "&nbsp;"
   ]
  },
  {
   "cell_type": "code",
   "execution_count": null,
   "metadata": {},
   "outputs": [],
   "source": [
    "um_float"
   ]
  },
  {
   "cell_type": "code",
   "execution_count": null,
   "metadata": {},
   "outputs": [],
   "source": [
    "int(um_float)"
   ]
  },
  {
   "cell_type": "code",
   "execution_count": null,
   "metadata": {},
   "outputs": [],
   "source": [
    "um_float"
   ]
  },
  {
   "cell_type": "code",
   "execution_count": null,
   "metadata": {},
   "outputs": [],
   "source": [
    "# modificações devem ser salvas em uma nova variável\n",
    "\n",
    "um_int = int(um_float)"
   ]
  },
  {
   "cell_type": "code",
   "execution_count": null,
   "metadata": {},
   "outputs": [],
   "source": [
    "um_int"
   ]
  },
  {
   "cell_type": "code",
   "execution_count": null,
   "metadata": {},
   "outputs": [],
   "source": [
    "str(um_float)"
   ]
  },
  {
   "cell_type": "markdown",
   "metadata": {},
   "source": [
    "# Prática:\n",
    "\n",
    "- Crie uma variável numérica do tipo float\n",
    "- A converta para tipo int"
   ]
  },
  {
   "cell_type": "code",
   "execution_count": null,
   "metadata": {
    "collapsed": true
   },
   "outputs": [],
   "source": []
  },
  {
   "cell_type": "code",
   "execution_count": null,
   "metadata": {
    "collapsed": true
   },
   "outputs": [],
   "source": []
  },
  {
   "cell_type": "markdown",
   "metadata": {},
   "source": [
    "# Operações numéricas\n",
    "\n",
    "### - Os operadores +,*,-,/  são aritméticos para variáveis numéricas.\n",
    "&nbsp;"
   ]
  },
  {
   "cell_type": "code",
   "execution_count": null,
   "metadata": {},
   "outputs": [],
   "source": [
    "x=55\n",
    "y=30"
   ]
  },
  {
   "cell_type": "code",
   "execution_count": null,
   "metadata": {},
   "outputs": [],
   "source": [
    "x+y"
   ]
  },
  {
   "cell_type": "code",
   "execution_count": null,
   "metadata": {},
   "outputs": [],
   "source": [
    "x-y"
   ]
  },
  {
   "cell_type": "code",
   "execution_count": null,
   "metadata": {},
   "outputs": [],
   "source": [
    "x*y"
   ]
  },
  {
   "cell_type": "code",
   "execution_count": null,
   "metadata": {},
   "outputs": [],
   "source": [
    "x/y  # por que 1 ??"
   ]
  },
  {
   "cell_type": "code",
   "execution_count": null,
   "metadata": {},
   "outputs": [],
   "source": [
    "float(x)/float(y)"
   ]
  },
  {
   "cell_type": "markdown",
   "metadata": {},
   "source": [
    "### - Alguns operadores extras:\n",
    "\n",
    "### % (Módulo) retorna o resto de uma divisão.\n",
    "###   ** (Expoente) retorna o resultado de um cálculo exponencial."
   ]
  },
  {
   "cell_type": "code",
   "execution_count": null,
   "metadata": {},
   "outputs": [],
   "source": [
    "x%y"
   ]
  },
  {
   "cell_type": "code",
   "execution_count": null,
   "metadata": {},
   "outputs": [],
   "source": [
    "x**y"
   ]
  },
  {
   "cell_type": "markdown",
   "metadata": {},
   "source": [
    "# Prática\n",
    "\n",
    "- Crie 3 variáveis com os valores 4, 12.4 e 30.\n",
    "- Calcule a soma de todos e armazene o resultado em uma nova variável.\n",
    "- Multiplique o resultado por 5 e armazene o resultado em uma nova variável."
   ]
  },
  {
   "cell_type": "code",
   "execution_count": null,
   "metadata": {
    "collapsed": true
   },
   "outputs": [],
   "source": []
  },
  {
   "cell_type": "code",
   "execution_count": null,
   "metadata": {
    "collapsed": true
   },
   "outputs": [],
   "source": []
  },
  {
   "cell_type": "markdown",
   "metadata": {},
   "source": [
    "# Strings\n",
    "\n",
    "### - Strings são marcadas por aspas.\n",
    "\n",
    "### - Envolta por aspas simples ('):\n",
    "&nbsp;"
   ]
  },
  {
   "cell_type": "code",
   "execution_count": null,
   "metadata": {},
   "outputs": [],
   "source": [
    "print('Esta é uma string com aspas simples')"
   ]
  },
  {
   "cell_type": "markdown",
   "metadata": {},
   "source": [
    "### - Envolta por aspas duplas (\"): \n",
    "&nbsp;"
   ]
  },
  {
   "cell_type": "code",
   "execution_count": null,
   "metadata": {},
   "outputs": [],
   "source": [
    "print(\"Esta é uma string com aspas duplas\")"
   ]
  },
  {
   "cell_type": "markdown",
   "metadata": {},
   "source": [
    "### -  Envolta por 3 caracteres, usando aspas simples ou duplas:\n",
    "&nbsp;"
   ]
  },
  {
   "cell_type": "code",
   "execution_count": null,
   "metadata": {},
   "outputs": [],
   "source": [
    "print('''Uma string com aspas triplas pode se extender por multiplas linhas, podendo conter também aspas \"duplas\" no meio.''')"
   ]
  },
  {
   "cell_type": "markdown",
   "metadata": {},
   "source": [
    "### - Uma string em Python consiste em uma série ou sequencia de caracteres - letras, números e caracteres especiais. \n",
    "\n",
    "### - Strings podem ser indexadas, o primeiro caractere de uma string tem o index 0.\n",
    "&nbsp;\n"
   ]
  },
  {
   "cell_type": "code",
   "execution_count": null,
   "metadata": {},
   "outputs": [],
   "source": [
    "str_1= \"Uma string\""
   ]
  },
  {
   "cell_type": "code",
   "execution_count": null,
   "metadata": {},
   "outputs": [],
   "source": [
    "str_1"
   ]
  },
  {
   "cell_type": "code",
   "execution_count": null,
   "metadata": {},
   "outputs": [],
   "source": [
    "str_1[0]"
   ]
  },
  {
   "cell_type": "code",
   "execution_count": null,
   "metadata": {},
   "outputs": [],
   "source": [
    "str_1[3]"
   ]
  },
  {
   "cell_type": "code",
   "execution_count": null,
   "metadata": {},
   "outputs": [],
   "source": [
    "len(str_1)"
   ]
  },
  {
   "cell_type": "markdown",
   "metadata": {},
   "source": [
    "### - Último caractere:\n",
    "&nbsp;"
   ]
  },
  {
   "cell_type": "code",
   "execution_count": null,
   "metadata": {},
   "outputs": [],
   "source": [
    "str_1[-1]"
   ]
  },
  {
   "cell_type": "markdown",
   "metadata": {},
   "source": [
    "### - Isso só foi possível porque os indices também podem ser lidos a partir da direita ao usar valores negativos:\n",
    "\n",
    "### “STRING”\n",
    "[-6],[-5],[-4],[-3],[-2],[-1]\n",
    "\n",
    "### Diferente do modo normal, a partir da esquerda:\n",
    "\n",
    "### “STRING”\n",
    "[0],[1],[2],[3],[4],[5]\n"
   ]
  },
  {
   "cell_type": "markdown",
   "metadata": {},
   "source": [
    "# Strings são  “imutáveis”\n",
    "\n",
    "### - Assim como em Java, strings em Python não podem ser modificadas.\n",
    "&nbsp;"
   ]
  },
  {
   "cell_type": "code",
   "execution_count": null,
   "metadata": {},
   "outputs": [],
   "source": [
    "s = \"Algumas coisas são imutáveis!\"\n",
    "s[-1] = \".\"\n"
   ]
  },
  {
   "cell_type": "markdown",
   "metadata": {},
   "source": [
    "# Operações com strings\n",
    "\n",
    "### - Concatenação: ao usarmos o operador numérico + é possível concatenar 2 ou mais strings: \n",
    "\n",
    "&nbsp;\n",
    "\n"
   ]
  },
  {
   "cell_type": "markdown",
   "metadata": {},
   "source": [
    "### Atenção para a falta de espaço"
   ]
  },
  {
   "cell_type": "code",
   "execution_count": null,
   "metadata": {},
   "outputs": [],
   "source": [
    "\"Olá\" + \"Mundo\"  #  <- *Atenção para a ausência de espaço"
   ]
  },
  {
   "cell_type": "markdown",
   "metadata": {},
   "source": [
    "### - Repetição- É possivel repetir uma string n vezes ao usar o operador *:"
   ]
  },
  {
   "cell_type": "code",
   "execution_count": null,
   "metadata": {},
   "outputs": [],
   "source": [
    "\"OláMundo\" * 3"
   ]
  },
  {
   "cell_type": "markdown",
   "metadata": {},
   "source": [
    "### - Indexar- Como mencionado antes, é possivel recuperar um caractere específico a partir de seu índice:"
   ]
  },
  {
   "cell_type": "code",
   "execution_count": null,
   "metadata": {},
   "outputs": [],
   "source": [
    "\"OláMundo\"[0] "
   ]
  },
  {
   "cell_type": "markdown",
   "metadata": {},
   "source": [
    "### - Corte ('Slicing')- é possível recuperar substrings de uma string ao usar a notação de corte:\n"
   ]
  },
  {
   "cell_type": "code",
   "execution_count": null,
   "metadata": {},
   "outputs": [],
   "source": [
    "\"OláMundo\"[2:4]  # Note que [2:4] irá retornar as posições 3 e 4."
   ]
  },
  {
   "cell_type": "markdown",
   "metadata": {},
   "source": [
    "### - Tamanho"
   ]
  },
  {
   "cell_type": "code",
   "execution_count": null,
   "metadata": {},
   "outputs": [],
   "source": [
    "len(\"OláMundo\")"
   ]
  },
  {
   "cell_type": "code",
   "execution_count": null,
   "metadata": {},
   "outputs": [],
   "source": [
    "type(len(\"OláMundo\")) # Esse é um int"
   ]
  },
  {
   "cell_type": "markdown",
   "metadata": {},
   "source": [
    "### - Dividir ('Split')- É possivel utilizar uma substring (ou caractere) para dividir uma string:"
   ]
  },
  {
   "cell_type": "code",
   "execution_count": null,
   "metadata": {},
   "outputs": [],
   "source": [
    "s = \"Algumas coisas são imutáveis!\""
   ]
  },
  {
   "cell_type": "code",
   "execution_count": null,
   "metadata": {},
   "outputs": [],
   "source": [
    "print(s.split())  # O caractere padrão é o espaço"
   ]
  },
  {
   "cell_type": "code",
   "execution_count": null,
   "metadata": {},
   "outputs": [],
   "source": [
    "print(s.split(\"a\"))\n"
   ]
  },
  {
   "cell_type": "code",
   "execution_count": null,
   "metadata": {},
   "outputs": [],
   "source": [
    "s2 = \"Você pode dividir algumas strings, e você pode decidir como fazer isso!\""
   ]
  },
  {
   "cell_type": "code",
   "execution_count": null,
   "metadata": {},
   "outputs": [],
   "source": [
    "print(s2.split(\",\"))\n"
   ]
  },
  {
   "cell_type": "code",
   "execution_count": null,
   "metadata": {},
   "outputs": [],
   "source": [
    "print(s2.split(\",\")[0])\n"
   ]
  },
  {
   "cell_type": "markdown",
   "metadata": {},
   "source": [
    "# Prática\n",
    "\n",
    "- Imprima a sétima letra da string \"BrunoAndrade\"\n",
    "- Divida os nomes na string \"Jorge,Rafael,Franziska,Daniel\"\n",
    "- Crie uma string com  os 2 primeiros e os 2 ultimos caracteres da string \"Eu amo Python\""
   ]
  },
  {
   "cell_type": "code",
   "execution_count": null,
   "metadata": {},
   "outputs": [],
   "source": []
  },
  {
   "cell_type": "code",
   "execution_count": null,
   "metadata": {},
   "outputs": [],
   "source": []
  },
  {
   "cell_type": "markdown",
   "metadata": {},
   "source": [
    "# Caracteres literais \n",
    "&nbsp;\n",
    "\n",
    "### - Se você quiser usar caracteres especiais com seu significado literal dentro de uma string, você precisa utilizar a contrabarra antes.\n",
    "\n",
    "#### Ex:  “Aspas duplas  \\”” -> Se você usar ” sem a \\ a mesma não será visualizada (Na verdade irá gerar um erro)\n",
    "\n",
    "#### Ex2: “A contrabarra é \\\\”   -> Você precisa usar uma \\ antes da \\\n",
    "\n",
    "&nbsp;\n",
    "\n",
    "### - Outras formas de usar contrabarra:\n",
    "#### Nova linha:  \\n\n",
    "\n",
    "#### Espaço tabulado: \\t   <- muito importante para lidar com arquivos tabulados"
   ]
  },
  {
   "cell_type": "code",
   "execution_count": null,
   "metadata": {},
   "outputs": [],
   "source": [
    "print(\"Esta é uma aspa dupla \" em uma string\")"
   ]
  },
  {
   "cell_type": "code",
   "execution_count": null,
   "metadata": {},
   "outputs": [],
   "source": [
    "print(\"Esta é uma aspa dupla \\\" em uma string\")"
   ]
  },
  {
   "cell_type": "code",
   "execution_count": null,
   "metadata": {},
   "outputs": [],
   "source": [
    "print(\"Este é um tab \\\"t\\\" em uma string\")"
   ]
  },
  {
   "cell_type": "code",
   "execution_count": null,
   "metadata": {},
   "outputs": [],
   "source": [
    "print(\"Este é um tab \\\"\\t\\\" em uma string\")"
   ]
  },
  {
   "cell_type": "markdown",
   "metadata": {},
   "source": [
    "# Listas\n",
    "\n",
    "\n",
    "### -  É um tipo de dados em Python que é bastante versátil, ela pode ser escrita como valores separados por vírgulas limitados por [ ]. \n",
    "\n",
    "### - Items em uma lista não precisam ser de um mesmo tipo!\n",
    "&nbsp;"
   ]
  },
  {
   "cell_type": "code",
   "execution_count": null,
   "metadata": {},
   "outputs": [],
   "source": [
    "lista1 = ['física', 'química', 1997, 2000]\n",
    "lista2 = [1, 2, 3, 4, 5 ]\n",
    "lista3 = [\"a\", \"b\", \"c\", \"d\"]\n"
   ]
  },
  {
   "cell_type": "markdown",
   "metadata": {},
   "source": [
    "### - Similar a strings, os índices de uma lista também começam com 0to string, index of list also starts with 0 and the list can be sliced, concatenated, etc.\n"
   ]
  },
  {
   "cell_type": "code",
   "execution_count": null,
   "metadata": {},
   "outputs": [],
   "source": [
    "lista1"
   ]
  },
  {
   "cell_type": "code",
   "execution_count": null,
   "metadata": {},
   "outputs": [],
   "source": [
    "lista1[-2]"
   ]
  },
  {
   "cell_type": "code",
   "execution_count": null,
   "metadata": {},
   "outputs": [],
   "source": [
    "lista2[0:3]"
   ]
  },
  {
   "cell_type": "code",
   "execution_count": null,
   "metadata": {},
   "outputs": [],
   "source": [
    "lista3[2]"
   ]
  },
  {
   "cell_type": "markdown",
   "metadata": {},
   "source": [
    "### - Diferentemente de strings, é possivel atualizar uma lista ao mudar um elemento:"
   ]
  },
  {
   "cell_type": "code",
   "execution_count": null,
   "metadata": {},
   "outputs": [],
   "source": [
    "lista1[2]"
   ]
  },
  {
   "cell_type": "code",
   "execution_count": null,
   "metadata": {},
   "outputs": [],
   "source": [
    "lista1[2] = 2001 #Substituindo o item na posição [2] pelo valor 2001"
   ]
  },
  {
   "cell_type": "code",
   "execution_count": null,
   "metadata": {},
   "outputs": [],
   "source": [
    "lista1[2]"
   ]
  },
  {
   "cell_type": "code",
   "execution_count": null,
   "metadata": {},
   "outputs": [],
   "source": [
    "lista1"
   ]
  },
  {
   "cell_type": "code",
   "execution_count": null,
   "metadata": {},
   "outputs": [],
   "source": [
    "del(lista1[2]) # deletando o item na posição [2] da lista (2001)"
   ]
  },
  {
   "cell_type": "code",
   "execution_count": null,
   "metadata": {},
   "outputs": [],
   "source": [
    "lista1"
   ]
  },
  {
   "cell_type": "markdown",
   "metadata": {},
   "source": [
    "# Operações com listas\n",
    "### - O mesmo para + (concatenação) e * (repetição) e vários outros operadores. Ex: len(list)\n",
    "\n",
    "### -  Mais exemplos:\n"
   ]
  },
  {
   "cell_type": "code",
   "execution_count": null,
   "metadata": {},
   "outputs": [],
   "source": [
    "lista1= ['física', 'química', 1997, 2000, 2004, 1999,2000]\n",
    "\n"
   ]
  },
  {
   "cell_type": "code",
   "execution_count": null,
   "metadata": {},
   "outputs": [],
   "source": [
    "len(lista1)"
   ]
  },
  {
   "cell_type": "code",
   "execution_count": null,
   "metadata": {},
   "outputs": [],
   "source": [
    "2001 in lista1\n"
   ]
  },
  {
   "cell_type": "code",
   "execution_count": null,
   "metadata": {},
   "outputs": [],
   "source": [
    "2000 in lista1\n"
   ]
  },
  {
   "cell_type": "code",
   "execution_count": null,
   "metadata": {},
   "outputs": [],
   "source": [
    "lista1.count(2000)"
   ]
  },
  {
   "cell_type": "code",
   "execution_count": null,
   "metadata": {
    "collapsed": true
   },
   "outputs": [],
   "source": [
    "lista1.sort()"
   ]
  },
  {
   "cell_type": "code",
   "execution_count": null,
   "metadata": {},
   "outputs": [],
   "source": [
    "lista1"
   ]
  },
  {
   "cell_type": "markdown",
   "metadata": {},
   "source": [
    "# Prática \n",
    "\n",
    "- Da lista a seguir: \n",
    "\n",
    "- Calcule o número de ocorrências da string \"google\""
   ]
  },
  {
   "cell_type": "code",
   "execution_count": null,
   "metadata": {},
   "outputs": [],
   "source": [
    "lista_pratica = [11111, \"python\",\"perl\",\"bash\",\"R\",\"google\",\"microsoft\",\"apple\",\"google\"]\n"
   ]
  },
  {
   "cell_type": "code",
   "execution_count": null,
   "metadata": {
    "collapsed": true
   },
   "outputs": [],
   "source": []
  },
  {
   "cell_type": "code",
   "execution_count": null,
   "metadata": {
    "collapsed": true
   },
   "outputs": [],
   "source": []
  },
  {
   "cell_type": "markdown",
   "metadata": {},
   "source": [
    "# Tuple\n",
    "\n",
    "\n",
    "### - Tuple possui uma estrutura muito parecida com listas, mas ao contrário dessa estrutura Tuples são imutáveis.\n",
    "\n",
    "### -  Ao invés de [ ] utiliza ( )\n",
    "&nbsp;"
   ]
  },
  {
   "cell_type": "code",
   "execution_count": null,
   "metadata": {
    "collapsed": true
   },
   "outputs": [],
   "source": [
    "tup1 = ('bla','ble','blu',1,30)\n",
    "tup2 = (1,2,3,4,5,6) \n",
    "tup3=(50)\n"
   ]
  },
  {
   "cell_type": "markdown",
   "metadata": {},
   "source": [
    "# Dicionários\n",
    "\n",
    "\n",
    "### - Em dicionários, todos os itens possuem uma chave e um valor separados por dois pontos (:)\n",
    "\n",
    "### - Os itens são separados por vírgulas (,)\n",
    "\n",
    "### - Chaves são unicas em um dicionário, mas seus valores não.\n",
    "\n",
    "### - Você pode acessar o valor a partir da chave.\n",
    "&nbsp;"
   ]
  },
  {
   "cell_type": "code",
   "execution_count": null,
   "metadata": {
    "collapsed": true
   },
   "outputs": [],
   "source": [
    "dict1 = {'Nome': 'John', 'Idade': 25, 'Classe': 'Primeiro'}\n",
    "\n"
   ]
  },
  {
   "cell_type": "code",
   "execution_count": null,
   "metadata": {},
   "outputs": [],
   "source": [
    "dict1['Nome']\n"
   ]
  },
  {
   "cell_type": "code",
   "execution_count": null,
   "metadata": {},
   "outputs": [],
   "source": [
    "dict1['Idade']"
   ]
  },
  {
   "cell_type": "markdown",
   "metadata": {},
   "source": [
    "# Compações e operadores lógicos em Python\n",
    "\n",
    "\n",
    "## Lógica:\n",
    "### *and* -  os dois operadores são verdadeiros, o resultado é verdadeiro.\n",
    "### *or*  - um dos operadores é verdadeiro, o resultado é verdadeiro\n",
    "### *not*  -  Operador lógico reverso\n",
    "\n",
    "## Comparção:\n",
    "###  ==  checa se dois valores são iguais. Ex: a == b.\n",
    "###  != Checa se dois valores são diferentes.\n",
    "###  > checa se o valor da esquerda é maior que o da direita. Ex: a>b. \n",
    "###  < checa se o valor da esquerda é menor que o da direita.\n",
    "###  >= Maior ou igual.\n",
    "###  <= Menor ou igual.\n",
    "&nbsp;"
   ]
  },
  {
   "cell_type": "markdown",
   "metadata": {},
   "source": [
    "#                                                                   <center>Tomada de decisão</center>\n",
    "&nbsp;\n",
    "\n",
    "![7](Figuras/1-1.svg)\n"
   ]
  },
  {
   "cell_type": "markdown",
   "metadata": {},
   "source": [
    "### - Para tomada use if para uma condição, e if, elif para mais de uma condição e else para qualquer outra coisa. \n"
   ]
  },
  {
   "cell_type": "code",
   "execution_count": null,
   "metadata": {
    "collapsed": true
   },
   "outputs": [],
   "source": [
    "var1=100\n"
   ]
  },
  {
   "cell_type": "code",
   "execution_count": null,
   "metadata": {},
   "outputs": [],
   "source": [
    "if var1>90:\n",
    "    print(\"Variável é maior que 90\")"
   ]
  },
  {
   "cell_type": "code",
   "execution_count": null,
   "metadata": {},
   "outputs": [],
   "source": [
    "if var1>90:\n",
    "    print (\"Variável é maior que 90\")\n",
    "else:\n",
    "    print (\"Variável pode ser igual ou menor que 90\")\n"
   ]
  },
  {
   "cell_type": "code",
   "execution_count": null,
   "metadata": {
    "collapsed": true
   },
   "outputs": [],
   "source": [
    "var1=90"
   ]
  },
  {
   "cell_type": "code",
   "execution_count": null,
   "metadata": {},
   "outputs": [],
   "source": [
    "if var1>90:\n",
    "    print\n",
    "else:\n",
    "    print(\"Variável é igual ou menor a 90\")"
   ]
  },
  {
   "cell_type": "code",
   "execution_count": null,
   "metadata": {},
   "outputs": [],
   "source": [
    "if var1>90: \n",
    "    print(\"Variável é maior que 90\")\n",
    "elif var1<90:\n",
    "    print(\"Variável é menor que 90\")\n",
    "else:  #(could also be elif var1 == 90:)\n",
    "    print(\"Variável é 90\")"
   ]
  },
  {
   "cell_type": "markdown",
   "metadata": {},
   "source": [
    "# Identação\n",
    "\n",
    "\n",
    "## Atenção para a identação em Python\n",
    "\n",
    "### - Não são utilizadas chaves para indicar blocos de códigos dentro de uma classe, função ou controle de fluxo. Isto é feito pela identação.\n",
    "\n",
    "![8](Figuras/Blocos.svg)\n",
    "&nbsp;"
   ]
  },
  {
   "cell_type": "markdown",
   "metadata": {},
   "source": [
    "# Loops\n",
    "\n",
    "### - Algumas vezes você precisa repetir a mesma operação, e isto é possível e muito mais fácil com um loop que é, basicamente, uma estrutura de repetição baseada em uma tomada de decisão ou em apenas em um número fixo de vezes.\n",
    "\n",
    "![9](Figuras/2.png)\n"
   ]
  },
  {
   "cell_type": "markdown",
   "metadata": {},
   "source": [
    "&nbsp;\n",
    "&nbsp;\n",
    "### -  O loop *For* tem a habilidade de iterar através de itens em qualquer sequência, seja uma lista ou uma string.\n",
    "![10](Figuras/4.svg)\n"
   ]
  },
  {
   "cell_type": "code",
   "execution_count": null,
   "metadata": {},
   "outputs": [],
   "source": [
    "for letra in 'Python bla': \n",
    "    print( 'Letra :', letra)\n"
   ]
  },
  {
   "cell_type": "code",
   "execution_count": null,
   "metadata": {},
   "outputs": [],
   "source": [
    "frutas = [\"maçã\", \"manga\", \"banana\"]\n",
    "for frutas in frutas:\n",
    "    print('Fruta :', frutas)\n"
   ]
  },
  {
   "cell_type": "code",
   "execution_count": null,
   "metadata": {},
   "outputs": [],
   "source": [
    "for fruta in frutas:\n",
    "    for letra in fruta:\n",
    "        print ('Fruta :', fruta, '\\tLetra :', letra)"
   ]
  },
  {
   "cell_type": "markdown",
   "metadata": {},
   "source": [
    "### - O loop *While* em Python executa repetidamente uma função enquanto a condição for verdadeira.\n",
    "\n",
    "![11](Figuras/5.svg)\n"
   ]
  },
  {
   "cell_type": "code",
   "execution_count": null,
   "metadata": {},
   "outputs": [],
   "source": [
    "contagem = 0 \n",
    "while (contagem < 9):\n",
    "    print( \"A contagem é:\", contagem)\n",
    "    contagem = contagem+1\n",
    "print(\"Adeus!\")\n",
    "\n"
   ]
  },
  {
   "cell_type": "markdown",
   "metadata": {},
   "source": [
    "- ### O loop infinito: Você tem de tomar cuidado quando utilizar *Whiles* para não criar loops infinitos (A menos que você precise de um, claro).\n",
    "&nbsp;\n",
    "\n",
    "```\n",
    "var == 1 \n",
    "while var == 1:\n",
    "    print \"Loop infinito\"\n",
    "```\n",
    "\n",
    "&nbsp;\n"
   ]
  },
  {
   "cell_type": "markdown",
   "metadata": {},
   "source": [
    "# Prática:\n",
    "\n",
    "- Crie uma lista de palavras com a string \"Eu estou aprendendo python para bioinformática\"\n",
    "- Crie um loop e imprima todas as palavras da lista, mas apenas se existir um n na palavra"
   ]
  },
  {
   "cell_type": "code",
   "execution_count": null,
   "metadata": {
    "collapsed": true
   },
   "outputs": [],
   "source": []
  },
  {
   "cell_type": "code",
   "execution_count": null,
   "metadata": {
    "collapsed": true
   },
   "outputs": [],
   "source": []
  },
  {
   "cell_type": "code",
   "execution_count": null,
   "metadata": {
    "collapsed": true
   },
   "outputs": [],
   "source": []
  },
  {
   "cell_type": "markdown",
   "metadata": {},
   "source": [
    "# I/O em Python\n",
    "\n",
    "\n",
    "### - Um programa (ou script) precisa lidar com um arquivo de entrada para gerar um arquivo de saída. Existem diversas formas de se carregar um input em Python e nós iremos ver os mais básicos primeiro.\n",
    "\n",
    "### - Antes de ler ou escrever um arquivo, você tem de abri-lo com a função open().\n",
    "### - Esta função cria um objeto de arquivo:\n",
    "\n",
    "&nbsp;"
   ]
  },
  {
   "cell_type": "code",
   "execution_count": null,
   "metadata": {
    "collapsed": true
   },
   "outputs": [],
   "source": [
    "afile = open(\"exemplo.txt\", \"w+\")\n"
   ]
  },
  {
   "cell_type": "markdown",
   "metadata": {},
   "source": [
    "### - O primeiro argumento é o nome do arquivo e o segundo é o modo de acesso. Ele determina se o arquivo vai ser apenas lido ou se também pode ser sobrescrito, etc...\n",
    "\n",
    "### - Neste exemplo, w+ é para escrita escrita, leitura e sobrescrita se um arquivo já existir.\n",
    "\n",
    "### - Examplos de modos de leitura:\n",
    "\n",
    "#### ‘w’ – Modo de escrita, é utilizado para editar e escrever novas informações no arquivo (qualquer arquivo existente com o mesmo nome será apagado após este modo ser ativado)\n",
    "#### ‘a’ – Modo de acréscimo, é utilizado para adicionar novos dados no final do arquivo, qualquer nova informação será automaticamente alocada para o fim do arquivo\n",
    "#### ‘r+’ – Modo especial de leitura e escrita\n",
    "\n"
   ]
  },
  {
   "cell_type": "code",
   "execution_count": null,
   "metadata": {},
   "outputs": [],
   "source": [
    "afile #afile is an object "
   ]
  },
  {
   "cell_type": "markdown",
   "metadata": {},
   "source": [
    "### - Escrevendo texto em um novo arquivo"
   ]
  },
  {
   "cell_type": "code",
   "execution_count": null,
   "metadata": {
    "collapsed": true
   },
   "outputs": [],
   "source": [
    "afile.write( \"Python é incrível.\\nSim é ótimo\\n\")  # \\n significa nova linha"
   ]
  },
  {
   "cell_type": "markdown",
   "metadata": {},
   "source": [
    "### - Fechando um arquivo:"
   ]
  },
  {
   "cell_type": "code",
   "execution_count": null,
   "metadata": {
    "collapsed": true
   },
   "outputs": [],
   "source": [
    "afile.close()"
   ]
  },
  {
   "cell_type": "markdown",
   "metadata": {},
   "source": [
    "### - Abrindo, lendo e fechando um arquivo:"
   ]
  },
  {
   "cell_type": "code",
   "execution_count": null,
   "metadata": {
    "collapsed": true
   },
   "outputs": [],
   "source": [
    "fo = open(\"exemplo.txt\", \"r+\")\n"
   ]
  },
  {
   "cell_type": "code",
   "execution_count": null,
   "metadata": {
    "collapsed": true
   },
   "outputs": [],
   "source": [
    "str_1 = fo.read()\n"
   ]
  },
  {
   "cell_type": "code",
   "execution_count": null,
   "metadata": {},
   "outputs": [],
   "source": [
    "print (str_1.endswith)"
   ]
  },
  {
   "cell_type": "code",
   "execution_count": null,
   "metadata": {},
   "outputs": [],
   "source": [
    "str_1.splitlines()[1]"
   ]
  },
  {
   "cell_type": "code",
   "execution_count": null,
   "metadata": {},
   "outputs": [],
   "source": [
    "fo = open(\"exemplo.txt\", \"r+\")\n",
    "str_2 = fo.read();\n",
    "print  (str_2)\n",
    "fo.close()\n"
   ]
  },
  {
   "cell_type": "code",
   "execution_count": null,
   "metadata": {
    "collapsed": true
   },
   "outputs": [],
   "source": [
    "fo.close()\n"
   ]
  },
  {
   "cell_type": "markdown",
   "metadata": {},
   "source": [
    "# Funções\n",
    "\n",
    "\n",
    "### - Uma função é um bloco de código organizado e reutilizavel utilizado para realizar uma única tarefa. Funções provém melhor modularidade para sua aplicação e um alto nível de reutilização de códigos.\n",
    "\n",
    "### - Como vocês já sabem, Python possui diversas funções próprias como print() e close(), mas você também pode criar suas próprias funções. Estas funções são chamadas de funções definidas pelo usuário.\n",
    "\n",
    "### - Blocos de função começam com a palavra chave *def* seguida do nome da função e parenteses () + :\n",
    "&nbsp;"
   ]
  },
  {
   "cell_type": "code",
   "execution_count": null,
   "metadata": {
    "collapsed": true
   },
   "outputs": [],
   "source": [
    "def nova_função():\n",
    "    print (\"Uma nova função\")\n",
    "    return"
   ]
  },
  {
   "cell_type": "code",
   "execution_count": null,
   "metadata": {},
   "outputs": [],
   "source": [
    "nova_função()"
   ]
  },
  {
   "cell_type": "markdown",
   "metadata": {},
   "source": [
    "### - Qualquer argumento de entrada deve ser colocado dentro dos parenteses. Você também pode definir parâmetros dentro dos parenteses.\n",
    "\n",
    "### - O bloco de código de qualquer função começa com : e é indentado.\n",
    "\n",
    "### - A declaração return [expressão} sai da função.\n"
   ]
  },
  {
   "cell_type": "code",
   "execution_count": null,
   "metadata": {
    "collapsed": true
   },
   "outputs": [],
   "source": [
    "def nova_função(a_str):\n",
    "    print (a_str)\n",
    "    return"
   ]
  },
  {
   "cell_type": "code",
   "execution_count": null,
   "metadata": {},
   "outputs": [],
   "source": [
    "nova_função(\"Outra string\")"
   ]
  },
  {
   "cell_type": "markdown",
   "metadata": {},
   "source": [
    "### - É possível utilizar argumentos como palavras chave. Isso permite que você evite colocar argumentos fora de ordem, já que python irá identificar pela palavra chave.\n"
   ]
  },
  {
   "cell_type": "code",
   "execution_count": null,
   "metadata": {
    "collapsed": true
   },
   "outputs": [],
   "source": [
    "# A definição da função está aqui\n",
    "def printinfo( nome, idade ):\n",
    "    \"Isto imprime a informação passada para esta função\"\n",
    "    print (\"Nome: \", nome)\n",
    "    print (\"Idade \", idade)\n",
    "    return;\n",
    "\n"
   ]
  },
  {
   "cell_type": "code",
   "execution_count": null,
   "metadata": {},
   "outputs": [],
   "source": [
    "# Agora você pode chamar a função printinfo - sem palavras chave)\n",
    "printinfo(\"miki\",50)"
   ]
  },
  {
   "cell_type": "code",
   "execution_count": null,
   "metadata": {},
   "outputs": [],
   "source": [
    "printinfo(50,\"miki\")"
   ]
  },
  {
   "cell_type": "code",
   "execution_count": null,
   "metadata": {},
   "outputs": [],
   "source": [
    "# Agora você pode chamar a função printinfo - com palavras chave)\n",
    "printinfo(idade=50,nome=\"miki\")"
   ]
  },
  {
   "cell_type": "markdown",
   "metadata": {},
   "source": [
    "### Ajuda"
   ]
  },
  {
   "cell_type": "code",
   "execution_count": null,
   "metadata": {},
   "outputs": [],
   "source": [
    "help(printinfo)"
   ]
  },
  {
   "cell_type": "markdown",
   "metadata": {},
   "source": [
    "### É possível utilizar argumentos padrão:\n"
   ]
  },
  {
   "cell_type": "code",
   "execution_count": null,
   "metadata": {
    "collapsed": true
   },
   "outputs": [],
   "source": [
    "def printinfo( nome, idade = 35 ): # o argumento padrão de idade é 35\n",
    "    print (\"Nome: \", nome)\n",
    "    print (\"Idade \", idade)\n",
    "    return;\n"
   ]
  },
  {
   "cell_type": "code",
   "execution_count": null,
   "metadata": {},
   "outputs": [],
   "source": [
    "printinfo( nome=\"miki\" ) # quando o argumento idade não é declarado ele será o padrão"
   ]
  },
  {
   "cell_type": "markdown",
   "metadata": {},
   "source": [
    "### A declaração *return* também pode ser utilizada para retornar um valor para o invocador da função.\n"
   ]
  },
  {
   "cell_type": "code",
   "execution_count": null,
   "metadata": {
    "collapsed": true
   },
   "outputs": [],
   "source": [
    "def sum_( arg1, arg2 ):\n",
    "   # Soma ambos os parâmetros e retorna o valor final.\"\n",
    "    total = arg1 + arg2\n",
    "    print (\"Dentro da função : \", total)\n",
    "    return total;\n"
   ]
  },
  {
   "cell_type": "code",
   "execution_count": null,
   "metadata": {},
   "outputs": [],
   "source": [
    "sum_( 10, 20 )\n"
   ]
  },
  {
   "cell_type": "markdown",
   "metadata": {},
   "source": [
    "### Variáveis locais e globais:\n",
    "\n",
    "### - Variáveis que são definidas dentro do corpo de uma função tem escopo local, enquanto as que foram defnidas foras tem escopo global.\n"
   ]
  },
  {
   "cell_type": "code",
   "execution_count": null,
   "metadata": {
    "collapsed": true
   },
   "outputs": [],
   "source": [
    "total = 0; # Variável global."
   ]
  },
  {
   "cell_type": "code",
   "execution_count": null,
   "metadata": {
    "collapsed": true
   },
   "outputs": [],
   "source": [
    "def sum_2( arg1, arg2 ):\n",
    "    # Soma ambos os parâmetros e retorna o valor final.\"\n",
    "    total = arg1 + arg2; # Variável local.\n",
    "    print (\"Dentro da função : \", total)\n",
    "    return\n"
   ]
  },
  {
   "cell_type": "code",
   "execution_count": null,
   "metadata": {},
   "outputs": [],
   "source": [
    "sum_2( 10, 20 );\n",
    "print (\"Fora da função : \", total) \n"
   ]
  },
  {
   "cell_type": "markdown",
   "metadata": {},
   "source": [
    "# Módulos\n",
    "\n",
    "\n",
    "\n",
    "### - Um módulo permite que você organize de forma lógica o seu código Python. Agrupando códigos relacionados em um módulo torna o código mais facil de entender e utilizar.\n",
    "\n",
    "### - Um módulo em Python é um objeto com nomes atribuídos arbitrariamente que você pode conectar e referenciar.\n",
    "\n",
    "### - De forma simples, um módulo é um arquivo contendo códigos Python. Um módulo pode ser definido por funções, classes e variáveis, podendo também incluir códigos executáveis.\n",
    "\n",
    "### - O código Python nomeado aname normalmente reside no arquivo aname.py. Aqui temos um exemplo de um módulo simples, suporte.py\n",
    "\n",
    "&nbsp;\n"
   ]
  },
  {
   "cell_type": "code",
   "execution_count": null,
   "metadata": {
    "collapsed": true
   },
   "outputs": [],
   "source": [
    "def print_func( nome ):\n",
    "    print (\"Olá : \", nome)\n",
    "    return\n"
   ]
  },
  {
   "cell_type": "code",
   "execution_count": null,
   "metadata": {
    "collapsed": true
   },
   "outputs": [],
   "source": [
    "# Criando um módulo apenas para ilustrar."
   ]
  },
  {
   "cell_type": "code",
   "execution_count": null,
   "metadata": {
    "collapsed": true
   },
   "outputs": [],
   "source": [
    "new_mod=open(\"suporte.py\",\"w+\")\n",
    "new_mod.write(\"def print_func( nome ):\\n\\tprint (\\\"Olá : \\\", nome)\\n\\treturn\")\n",
    "new_mod.close()"
   ]
  },
  {
   "cell_type": "markdown",
   "metadata": {},
   "source": [
    "### Para que um módulo seja utilizável, você primeiro tem de importa-lo:\n"
   ]
  },
  {
   "cell_type": "code",
   "execution_count": null,
   "metadata": {},
   "outputs": [],
   "source": [
    "# Importando o módulo suporte\n",
    "import suporte\n",
    "\n",
    "# Agora você pode invocar afunção definida no módulo da seguinte forma\n",
    "suporte.print_func(\"Zara\")\n"
   ]
  },
  {
   "cell_type": "markdown",
   "metadata": {},
   "source": [
    "### Você também pode dar um apelido ao módulo:"
   ]
  },
  {
   "cell_type": "code",
   "execution_count": null,
   "metadata": {
    "collapsed": true
   },
   "outputs": [],
   "source": [
    "# Importando o módulo suporte com o apelidode \"sup\"\n",
    "import suporte as sup\n"
   ]
  },
  {
   "cell_type": "code",
   "execution_count": null,
   "metadata": {},
   "outputs": [],
   "source": [
    "sup.print_func(\"Zara\")\n"
   ]
  },
  {
   "cell_type": "markdown",
   "metadata": {},
   "source": [
    "# Prática\n",
    "\n",
    "- Escreva uma função em Python que receba uma lista de palavras e retorne o tamanho da mais longa."
   ]
  },
  {
   "cell_type": "code",
   "execution_count": null,
   "metadata": {
    "collapsed": true
   },
   "outputs": [],
   "source": []
  },
  {
   "cell_type": "markdown",
   "metadata": {},
   "source": [
    "# Perguntas ???"
   ]
  },
  {
   "cell_type": "markdown",
   "metadata": {},
   "source": [
    "![12](Figuras/12.png)\n"
   ]
  },
  {
   "cell_type": "markdown",
   "metadata": {},
   "source": [
    "&nbsp;\n",
    "&nbsp;\n",
    "\n",
    "## - Dataframes (pandas)\n",
    "## - Plots (matplotlib e seaborn)\n",
    "&nbsp;\n",
    "\n"
   ]
  },
  {
   "cell_type": "markdown",
   "metadata": {},
   "source": [
    "# Introdução a dataframes com Pandas\n",
    "\n",
    "### O que é um dataframe?\n",
    "\n",
    "### - É uma estrutura de dados bi-dimensional com tamanho variável, e possivelmente heterogêneo, com identificadores em linhas e colunas.\n",
    "&nbsp;\n",
    "\n"
   ]
  },
  {
   "cell_type": "markdown",
   "metadata": {},
   "source": [
    "![13](Figuras/13.png)\n"
   ]
  },
  {
   "cell_type": "markdown",
   "metadata": {},
   "source": [
    "### - Geralmente, nós importamos um arquivo tabular ou CSV como um dataframe.\n",
    "\n",
    "### - Existem diversas opções, nós podemos usar um separador diferente w ler um arquivo com cabeçalho ou não.\n",
    "&nbsp;"
   ]
  },
  {
   "cell_type": "markdown",
   "metadata": {},
   "source": [
    "&nbsp;\n",
    "# Estudo de caso\n",
    "&nbsp;\n",
    "### - Iremos utilizar dados provenientes do sequenciamento do metagenoma do Mar baltico, feito pelo consórcio *Global Ocean Sampling* \n",
    "### - Iremos utilizar informações de diferentes softwares para normalizar a abundância de COGs (Grupos de ortologos) destes metagenomas com informações funcionais\n",
    "### - Por fim iremos visualizar os resultados gerando diversos gráficos\n",
    "\n",
    "&nbsp;"
   ]
  },
  {
   "cell_type": "code",
   "execution_count": null,
   "metadata": {
    "collapsed": true
   },
   "outputs": [],
   "source": [
    "import pandas as pd\n",
    "\n",
    "\n",
    "df=pd.read_csv(\"Tabelas/new_AVS.tsv\")"
   ]
  },
  {
   "cell_type": "code",
   "execution_count": null,
   "metadata": {},
   "outputs": [],
   "source": [
    "#checando as primeiras linhas do dataframe - head() nos mostra as primeiras 5 linhas como padrão, mas podemos aumentar esse valor usando argumentos dentro do ().\n",
    "df.head()"
   ]
  },
  {
   "cell_type": "code",
   "execution_count": null,
   "metadata": {},
   "outputs": [],
   "source": [
    "df.tail() # Últimas 5 linhas"
   ]
  },
  {
   "cell_type": "markdown",
   "metadata": {},
   "source": [
    "&nbsp;\n",
    "### - Por padrão, a função read_csv() utiliza \",\"By default, function read_csv() would use \",\" as separator to read the table. \n",
    "\n",
    "### - Isso pode ser mudado para qualquer caractere, como por exemplo vamos utilizar um tabular \"\\t\":\n",
    "&nbsp;"
   ]
  },
  {
   "cell_type": "code",
   "execution_count": null,
   "metadata": {
    "collapsed": true
   },
   "outputs": [],
   "source": [
    "df=pd.read_csv(\"Tabelas/new_AVS.tsv\",sep=\"\\t\")"
   ]
  },
  {
   "cell_type": "code",
   "execution_count": null,
   "metadata": {},
   "outputs": [],
   "source": [
    "df.head()"
   ]
  },
  {
   "cell_type": "code",
   "execution_count": null,
   "metadata": {
    "collapsed": true
   },
   "outputs": [],
   "source": [
    "df=pd.read_table(\"Tabelas/new_AVS.tsv\") # Outra forma de se ler um arquivo tabular é utilizando a função read_table()"
   ]
  },
  {
   "cell_type": "code",
   "execution_count": null,
   "metadata": {},
   "outputs": [],
   "source": [
    "df.head()"
   ]
  },
  {
   "cell_type": "markdown",
   "metadata": {},
   "source": [
    "### - Também é possivel se ler tabelas excel utilizando a função read_excel()"
   ]
  },
  {
   "cell_type": "code",
   "execution_count": null,
   "metadata": {
    "collapsed": true
   },
   "outputs": [],
   "source": [
    "df_2=pd.read_excel(\"Tabelas/CAMERA_COG_RPKG_sig.xlsx\")"
   ]
  },
  {
   "cell_type": "markdown",
   "metadata": {},
   "source": [
    "### - Esta tabela armazenda a abundância de cada gene ortólogo em cada amostra"
   ]
  },
  {
   "cell_type": "code",
   "execution_count": null,
   "metadata": {},
   "outputs": [],
   "source": [
    "df_2.head(10)"
   ]
  },
  {
   "cell_type": "markdown",
   "metadata": {},
   "source": [
    "# Trabalhando com os arquivos fornecidos\n",
    "\n",
    "### Foram fornecidos dois arquivos para análise metagenômica:\n",
    "\n",
    "### - new_avs.csv e metatable.csv\n",
    "\n",
    "### - AGS é o tamanho médio de genomas, ele foi calculado baseado em marcadores genéticos para cada amostra \n",
    "\n",
    "### - Metatable são os metadados de cada amostra\n"
   ]
  },
  {
   "cell_type": "code",
   "execution_count": null,
   "metadata": {
    "collapsed": true
   },
   "outputs": [],
   "source": [
    "df=pd.read_table(\"Tabelas/new_AVS.tsv\") "
   ]
  },
  {
   "cell_type": "markdown",
   "metadata": {},
   "source": [
    "## Este arquivo foi um output do programa MicrobeCensus:\n",
    "\n",
    "https://github.com/snayfach/MicrobeCensus\n",
    "\n",
    "\n",
    "MicrobeCensus é um pipeline rápido e fácil de usar para se estimar o AGS para uma comunidade microbiana."
   ]
  },
  {
   "cell_type": "code",
   "execution_count": null,
   "metadata": {},
   "outputs": [],
   "source": [
    "df.head()"
   ]
  },
  {
   "cell_type": "markdown",
   "metadata": {},
   "source": [
    "#### As amostras utilizadas neste estudo são parte da iniciativa Global Ocean Sampling - baltic sea. "
   ]
  },
  {
   "cell_type": "markdown",
   "metadata": {},
   "source": [
    "### Checando os nomes das colunas:"
   ]
  },
  {
   "cell_type": "code",
   "execution_count": null,
   "metadata": {},
   "outputs": [],
   "source": [
    "df.columns"
   ]
  },
  {
   "cell_type": "code",
   "execution_count": null,
   "metadata": {
    "collapsed": true
   },
   "outputs": [],
   "source": [
    "l=list(df.columns)"
   ]
  },
  {
   "cell_type": "code",
   "execution_count": null,
   "metadata": {},
   "outputs": [],
   "source": [
    "l"
   ]
  },
  {
   "cell_type": "markdown",
   "metadata": {},
   "source": [
    "### Criando um subgrupo da dataframe:"
   ]
  },
  {
   "cell_type": "markdown",
   "metadata": {},
   "source": [
    "### Apenas duas colunas são importantes para nós\n"
   ]
  },
  {
   "cell_type": "code",
   "execution_count": null,
   "metadata": {
    "collapsed": true
   },
   "outputs": [],
   "source": [
    "new_df=df[[\"metagenome:\",\"average_genome_size:\",\"genome_equivalents:\"]]"
   ]
  },
  {
   "cell_type": "code",
   "execution_count": null,
   "metadata": {},
   "outputs": [],
   "source": [
    "new_df.head()"
   ]
  },
  {
   "cell_type": "markdown",
   "metadata": {},
   "source": [
    "### Renomear colunas: "
   ]
  },
  {
   "cell_type": "code",
   "execution_count": null,
   "metadata": {
    "collapsed": true
   },
   "outputs": [],
   "source": [
    "new_df.columns=[\"Sample\",\"AGS\",\"GE\"]"
   ]
  },
  {
   "cell_type": "code",
   "execution_count": null,
   "metadata": {},
   "outputs": [],
   "source": [
    "new_df.head()"
   ]
  },
  {
   "cell_type": "markdown",
   "metadata": {},
   "source": [
    "### Rename colunas específicas:"
   ]
  },
  {
   "cell_type": "code",
   "execution_count": null,
   "metadata": {},
   "outputs": [],
   "source": [
    "new_df.rename(columns= {\"Sample\":\"sample\"}).head()"
   ]
  },
  {
   "cell_type": "markdown",
   "metadata": {},
   "source": [
    "### Trabalhando com dataframes:\n",
    "\n",
    "### - Este comando vai setar o índice e exibir um novo dataframe com este novo index, mas sem alterar o dataframe original:"
   ]
  },
  {
   "cell_type": "code",
   "execution_count": null,
   "metadata": {},
   "outputs": [],
   "source": [
    "new_df.set_index(\"Sample\").head() #Apenas mostra o dataframe com o índice em \"Amostra\" sem alterar o original"
   ]
  },
  {
   "cell_type": "code",
   "execution_count": null,
   "metadata": {},
   "outputs": [],
   "source": [
    "#Original continua sem alterações\n",
    "new_df.head()"
   ]
  },
  {
   "cell_type": "code",
   "execution_count": null,
   "metadata": {
    "collapsed": true
   },
   "outputs": [],
   "source": [
    "new_df.set_index(\"Sample\",inplace=True) # inplace=True modifica o datraframe"
   ]
  },
  {
   "cell_type": "code",
   "execution_count": null,
   "metadata": {},
   "outputs": [],
   "source": [
    "# Agora mudou\n",
    "new_df.head()"
   ]
  },
  {
   "cell_type": "markdown",
   "metadata": {},
   "source": [
    "### Estatísticas descritivas do dataframe:"
   ]
  },
  {
   "cell_type": "code",
   "execution_count": null,
   "metadata": {},
   "outputs": [],
   "source": [
    "new_df.describe()"
   ]
  },
  {
   "cell_type": "markdown",
   "metadata": {},
   "source": [
    "### Imprima o menor valor de GE:"
   ]
  },
  {
   "cell_type": "code",
   "execution_count": null,
   "metadata": {},
   "outputs": [],
   "source": [
    "new_df[\"GE\"].min()"
   ]
  },
  {
   "cell_type": "markdown",
   "metadata": {},
   "source": [
    "### Imprima o maior valor de todas as colunas:"
   ]
  },
  {
   "cell_type": "code",
   "execution_count": null,
   "metadata": {},
   "outputs": [],
   "source": [
    "new_df.min()"
   ]
  },
  {
   "cell_type": "code",
   "execution_count": null,
   "metadata": {
    "scrolled": true
   },
   "outputs": [],
   "source": [
    "new_df.max()"
   ]
  },
  {
   "cell_type": "markdown",
   "metadata": {},
   "source": [
    "### Imprima os tipos de dados de cada coluna:"
   ]
  },
  {
   "cell_type": "code",
   "execution_count": null,
   "metadata": {},
   "outputs": [],
   "source": [
    "new_df.dtypes"
   ]
  },
  {
   "cell_type": "code",
   "execution_count": null,
   "metadata": {},
   "outputs": [],
   "source": [
    "type(new_df)"
   ]
  },
  {
   "cell_type": "markdown",
   "metadata": {},
   "source": [
    "### Transponha o dataframe:"
   ]
  },
  {
   "cell_type": "code",
   "execution_count": null,
   "metadata": {},
   "outputs": [],
   "source": [
    "new_df.T"
   ]
  },
  {
   "cell_type": "code",
   "execution_count": null,
   "metadata": {
    "collapsed": true
   },
   "outputs": [],
   "source": [
    "#some hands on here"
   ]
  },
  {
   "cell_type": "markdown",
   "metadata": {},
   "source": [
    "### Ordene os valores da coluna GE:"
   ]
  },
  {
   "cell_type": "code",
   "execution_count": null,
   "metadata": {},
   "outputs": [],
   "source": [
    "new_df.sort_values(by=\"GE\").head()\n"
   ]
  },
  {
   "cell_type": "markdown",
   "metadata": {},
   "source": [
    "### Por padrão, este comando vai ordenar valores ascendentes, mas você pode especificar a direção:descending:"
   ]
  },
  {
   "cell_type": "code",
   "execution_count": null,
   "metadata": {},
   "outputs": [],
   "source": [
    "new_df.sort_values(by=\"GE\",ascending=False).head()"
   ]
  },
  {
   "cell_type": "markdown",
   "metadata": {},
   "source": [
    "### Selecione uma coluna como uma Pandas Series:"
   ]
  },
  {
   "cell_type": "code",
   "execution_count": null,
   "metadata": {},
   "outputs": [],
   "source": [
    "new_df[\"AGS\"].head()"
   ]
  },
  {
   "cell_type": "markdown",
   "metadata": {},
   "source": [
    "### Selecione uma coluna como um novo dataframe:"
   ]
  },
  {
   "cell_type": "code",
   "execution_count": null,
   "metadata": {},
   "outputs": [],
   "source": [
    "new_df[[\"AGS\"]].head()"
   ]
  },
  {
   "cell_type": "markdown",
   "metadata": {},
   "source": [
    "### Selecionando linhas por posição:"
   ]
  },
  {
   "cell_type": "code",
   "execution_count": null,
   "metadata": {},
   "outputs": [],
   "source": [
    "new_df.iloc[0:3]"
   ]
  },
  {
   "cell_type": "markdown",
   "metadata": {},
   "source": [
    "### Selecionando linhas por índice:"
   ]
  },
  {
   "cell_type": "code",
   "execution_count": null,
   "metadata": {},
   "outputs": [],
   "source": [
    "new_df.loc[\"CAM_SMPL_003398\":\"CAM_SMPL_003418\"]"
   ]
  },
  {
   "cell_type": "markdown",
   "metadata": {},
   "source": [
    "### Seleção condicional:"
   ]
  },
  {
   "cell_type": "code",
   "execution_count": null,
   "metadata": {},
   "outputs": [],
   "source": [
    "new_df[(new_df[\"GE\"]<40) & (new_df[\"AGS\"]>1000000)][[\"AGS\"]].head() #Seleciona linhas onde GE é menor que 40 e AGS é maior que 1000000"
   ]
  },
  {
   "cell_type": "code",
   "execution_count": null,
   "metadata": {},
   "outputs": [],
   "source": [
    "new_df[new_df[\"GE\"]>40] # Selecione linhas onde GE é maior que 40"
   ]
  },
  {
   "cell_type": "markdown",
   "metadata": {},
   "source": [
    "### Operações com valores:"
   ]
  },
  {
   "cell_type": "code",
   "execution_count": null,
   "metadata": {},
   "outputs": [],
   "source": [
    "new_df.max()-new_df.min()"
   ]
  },
  {
   "cell_type": "markdown",
   "metadata": {},
   "source": [
    "### Criar uma nova coluna baseada no resultado de operações com valores:"
   ]
  },
  {
   "cell_type": "code",
   "execution_count": null,
   "metadata": {},
   "outputs": [],
   "source": [
    "new_df[\"GE - AGS\"]=new_df[\"GE\"]-new_df[\"AGS\"]"
   ]
  },
  {
   "cell_type": "code",
   "execution_count": null,
   "metadata": {},
   "outputs": [],
   "source": [
    "new_df.head()"
   ]
  },
  {
   "cell_type": "markdown",
   "metadata": {},
   "source": [
    "### Deletando uma coluna:"
   ]
  },
  {
   "cell_type": "code",
   "execution_count": null,
   "metadata": {
    "collapsed": true
   },
   "outputs": [],
   "source": [
    "del new_df[\"GE - AGS\"]"
   ]
  },
  {
   "cell_type": "code",
   "execution_count": null,
   "metadata": {},
   "outputs": [],
   "source": [
    "new_df.head()"
   ]
  },
  {
   "cell_type": "code",
   "execution_count": null,
   "metadata": {},
   "outputs": [],
   "source": [
    "new_df[\"AGS - GE\"]=new_df[\"AGS\"]-new_df[\"GE\"]"
   ]
  },
  {
   "cell_type": "markdown",
   "metadata": {},
   "source": [
    "### Metadados de amostras"
   ]
  },
  {
   "cell_type": "code",
   "execution_count": null,
   "metadata": {},
   "outputs": [],
   "source": [
    "df2=pd.read_csv(\"Tabelas/metatable.csv\")"
   ]
  },
  {
   "cell_type": "code",
   "execution_count": null,
   "metadata": {},
   "outputs": [],
   "source": [
    "df2.head()"
   ]
  },
  {
   "cell_type": "code",
   "execution_count": null,
   "metadata": {},
   "outputs": [],
   "source": [
    "new_df.head()"
   ]
  },
  {
   "cell_type": "code",
   "execution_count": null,
   "metadata": {},
   "outputs": [],
   "source": [
    "new_df.reset_index(inplace=True)"
   ]
  },
  {
   "cell_type": "code",
   "execution_count": null,
   "metadata": {},
   "outputs": [],
   "source": [
    "new_df.head()\n",
    "new_df[\"AGS (mb)\"]=new_df[\"AGS\"]/1000000"
   ]
  },
  {
   "cell_type": "markdown",
   "metadata": {},
   "source": [
    "### Checando o tamanho de ambos os dataframes"
   ]
  },
  {
   "cell_type": "code",
   "execution_count": null,
   "metadata": {},
   "outputs": [],
   "source": [
    "len(new_df)"
   ]
  },
  {
   "cell_type": "code",
   "execution_count": null,
   "metadata": {},
   "outputs": [],
   "source": [
    "len(df2)"
   ]
  },
  {
   "cell_type": "markdown",
   "metadata": {},
   "source": [
    "### Unindo dois dataframes"
   ]
  },
  {
   "cell_type": "code",
   "execution_count": null,
   "metadata": {},
   "outputs": [],
   "source": [
    "merged=pd.merge(new_df,df2,left_on=\"Sample\",right_on=\"SAMPLE_ACC\")"
   ]
  },
  {
   "cell_type": "code",
   "execution_count": null,
   "metadata": {},
   "outputs": [],
   "source": [
    "merged.head(15)"
   ]
  },
  {
   "cell_type": "code",
   "execution_count": null,
   "metadata": {},
   "outputs": [],
   "source": [
    "l1=list(merged.columns)"
   ]
  },
  {
   "cell_type": "markdown",
   "metadata": {},
   "source": [
    "### Removendo colunas onde todos os valores são NaN (nulos, missing)"
   ]
  },
  {
   "cell_type": "code",
   "execution_count": null,
   "metadata": {},
   "outputs": [],
   "source": [
    "merged.dropna(how=\"all\",axis=1,inplace=True)"
   ]
  },
  {
   "cell_type": "code",
   "execution_count": null,
   "metadata": {},
   "outputs": [],
   "source": [
    "merged.head()"
   ]
  },
  {
   "cell_type": "code",
   "execution_count": null,
   "metadata": {},
   "outputs": [],
   "source": [
    "l2=list(merged.columns)"
   ]
  },
  {
   "cell_type": "code",
   "execution_count": null,
   "metadata": {},
   "outputs": [],
   "source": [
    "[x for x in l1 if x not in l2]"
   ]
  },
  {
   "cell_type": "markdown",
   "metadata": {},
   "source": [
    "### Ordenar valores baseado no tamanho do filtro:"
   ]
  },
  {
   "cell_type": "code",
   "execution_count": null,
   "metadata": {},
   "outputs": [],
   "source": [
    "merged=merged.sort_values(\"FILTER_MIN\")"
   ]
  },
  {
   "cell_type": "code",
   "execution_count": null,
   "metadata": {},
   "outputs": [],
   "source": [
    "merged.head(10)"
   ]
  },
  {
   "cell_type": "code",
   "execution_count": null,
   "metadata": {},
   "outputs": [],
   "source": [
    "merged.reset_index(inplace=True,drop=True)"
   ]
  },
  {
   "cell_type": "code",
   "execution_count": null,
   "metadata": {},
   "outputs": [],
   "source": [
    "merged.head(10)"
   ]
  },
  {
   "cell_type": "markdown",
   "metadata": {},
   "source": [
    "### Criar 3 grupos (g1, g2, g3), um para cada tamanho mínimo de filtro"
   ]
  },
  {
   "cell_type": "code",
   "execution_count": null,
   "metadata": {},
   "outputs": [],
   "source": [
    "merged[\"FILTER_MIN\"].drop_duplicates()"
   ]
  },
  {
   "cell_type": "code",
   "execution_count": null,
   "metadata": {},
   "outputs": [],
   "source": [
    "g1_ = merged[merged[\"FILTER_MIN\"]==0.1]\n",
    "g2_ = merged[merged[\"FILTER_MIN\"]==0.8]\n",
    "g3_ = merged[merged[\"FILTER_MIN\"]==3.0]"
   ]
  },
  {
   "cell_type": "markdown",
   "metadata": {},
   "source": [
    "### Usando a função groupby e calculando a média de cada grupo"
   ]
  },
  {
   "cell_type": "code",
   "execution_count": null,
   "metadata": {},
   "outputs": [],
   "source": [
    "list(merged.groupby(\"FILTER_MIN\")[\"AGS (mb)\"].mean())"
   ]
  },
  {
   "cell_type": "markdown",
   "metadata": {},
   "source": [
    "# Prática:\n",
    "\n",
    "### - Inicie um dataframe\n",
    "\n",
    "### - Imprima suas colunas\n",
    "\n",
    "### - Armazene os nomes das colunas em uma lista\n",
    "\n",
    "### - Imprima o valor máximo da última coluna\n",
    "\n",
    "### - Imprima o valor máximo da última linha\n",
    "\n",
    "\n"
   ]
  },
  {
   "cell_type": "code",
   "execution_count": null,
   "metadata": {
    "collapsed": true
   },
   "outputs": [],
   "source": []
  },
  {
   "cell_type": "code",
   "execution_count": null,
   "metadata": {
    "collapsed": true
   },
   "outputs": [],
   "source": []
  },
  {
   "cell_type": "markdown",
   "metadata": {},
   "source": [
    "#### Mais sobre Pandas in: http://pandas.pydata.org/\n",
    "\n",
    "#### Cheat Sheet: http://pandas.pydata.org/Pandas_Cheat_Sheet.pdf\n",
    "&nbsp;\n",
    "&nbsp;\n",
    "&nbsp;\n",
    "&nbsp;\n",
    "&nbsp;\n",
    "&nbsp;"
   ]
  },
  {
   "cell_type": "markdown",
   "metadata": {},
   "source": [
    "# Gráficos com matplotlib"
   ]
  },
  {
   "cell_type": "markdown",
   "metadata": {},
   "source": [
    "### - Matplotlib é uma biblioteca de gráficos 2D para Python que produz figuras com qualidade de publicação em diversos formatos e ambientes interativos entre plataformas. Matplotlib pode ser usando por Python scripts, terminais ou IPython (como este que estamos usando), aplicações web, etc...\n",
    "\n",
    "#### https://matplotlib.org/"
   ]
  },
  {
   "cell_type": "code",
   "execution_count": null,
   "metadata": {
    "collapsed": true
   },
   "outputs": [],
   "source": [
    "import matplotlib.pyplot as plt"
   ]
  },
  {
   "cell_type": "markdown",
   "metadata": {},
   "source": [
    "### - Seaborn é uma biblioteca de visualização Python baseada em matplotlib. Ele provém uma interface de alto nível para gerar gráficos estatísticos visualmente atrativos.\n",
    "\n",
    "#### https://seaborn.pydata.org/"
   ]
  },
  {
   "cell_type": "code",
   "execution_count": null,
   "metadata": {},
   "outputs": [],
   "source": [
    "import seaborn as sns"
   ]
  },
  {
   "cell_type": "markdown",
   "metadata": {},
   "source": [
    "### Gráficos em Python - A forma preguiçosa (e feia)"
   ]
  },
  {
   "cell_type": "code",
   "execution_count": null,
   "metadata": {},
   "outputs": [],
   "source": [
    "#Usando a função plot diretamente de um dataframe\n",
    "plt.figure(figsize=(15,8))\n",
    "new_df[\"GE\"].plot()\n",
    "plt.show()"
   ]
  },
  {
   "cell_type": "code",
   "execution_count": null,
   "metadata": {},
   "outputs": [],
   "source": [
    "#Rotacionando o nome das amostras\n",
    "plt.figure(figsize=(15,8))\n",
    "new_df[\"GE\"].plot()\n",
    "\n",
    "\n",
    "plt.xticks(rotation=90)\n",
    "\n",
    "plt.show()\n"
   ]
  },
  {
   "cell_type": "markdown",
   "metadata": {},
   "source": [
    "### Este gráfico é completamente inútil já que não temos dados contínuos, nós precisamos de um gráfico de barras para este caso."
   ]
  },
  {
   "cell_type": "code",
   "execution_count": null,
   "metadata": {},
   "outputs": [],
   "source": [
    "plt.figure(figsize=(15,8))\n",
    "new_df[\"GE\"].plot(kind=\"bar\")  # kind também pode ser pie, scatter, etc...\n",
    "plt.xticks(rotation=90)\n",
    "plt.show()"
   ]
  },
  {
   "cell_type": "markdown",
   "metadata": {},
   "source": [
    "### Nós podemos controlar o tamanho e o estilo da figura, além de título da figura e dos eixos."
   ]
  },
  {
   "cell_type": "code",
   "execution_count": null,
   "metadata": {},
   "outputs": [],
   "source": [
    "sns.set_style(\"white\")\n",
    "\n",
    "#Definir a figura e seu tamanho\n",
    "plt.figure(figsize=(15,8))\n",
    "\n",
    "\n",
    "\n",
    "#Bar plot \n",
    "\n",
    "#definir o número de barras para serem plotadas e a posição no eixo X\n",
    "x=range(len(new_df[\"AGS\"]))\n",
    "\n",
    "#valores do eixo Y\n",
    "y=new_df[\"AGS\"]\n",
    "\n",
    "plt.bar(x,y,color=\"b\")\n",
    "\n",
    "#títulos dos eixos\n",
    "plt.ylabel(\"AGS \",fontsize=\"16\")\n",
    "plt.xlabel(\"Amostras\",fontsize=\"16\")\n",
    "\n",
    "plt.title(\"Gráfico para o Workshop\",fontsize=\"22\")\n",
    "#xticks -> define o texto do eixo X, aqui nós usamos o nome das amostras\n",
    "\n",
    "\n",
    "plt.xticks(range(0,len(new_df.index),2), new_df.index,rotation=\"vertical\",fontsize=\"12\")\n",
    "plt.yticks(fontsize=\"22\")\n",
    "\n",
    "## Salvando a figura em pdf (também podendo ser em png, jpeg, ect...)\n",
    "\n",
    "plt.savefig(\"../my_first_plot.pdf\", format = 'pdf', dpi = 300, bbox_inches = 'tight')\n",
    "\n",
    "#a função show() é necessária para que a imagem seja visualizada aqui\n",
    "plt.show()"
   ]
  },
  {
   "cell_type": "markdown",
   "metadata": {},
   "source": [
    "#### Mais sobre estilos em seaborn em: https://seaborn.pydata.org/generated/seaborn.set_style.html"
   ]
  },
  {
   "cell_type": "markdown",
   "metadata": {},
   "source": [
    "### Os valores em Y são em pares de base, difíceis de ler, então nós os convertemos para Mb"
   ]
  },
  {
   "cell_type": "code",
   "execution_count": null,
   "metadata": {},
   "outputs": [],
   "source": [
    "new_df[\"AGS (mb)\"]=new_df[\"AGS\"]/1000000"
   ]
  },
  {
   "cell_type": "code",
   "execution_count": null,
   "metadata": {},
   "outputs": [],
   "source": [
    "#Estilo do Seaborn\n",
    "sns.set_style(\"white\")\n",
    "\n",
    "#Definir a figura e seu tamanho\n",
    "plt.figure(figsize=(15,8))\n",
    "\n",
    "\n",
    "x=range(len(new_df[\"AGS (mb)\"]))\n",
    "\n",
    "y=new_df[\"AGS (mb)\"]\n",
    "\n",
    "\n",
    "#Bar plot \n",
    "plt.bar(x,y,color=\"b\")\n",
    "\n",
    "#nomes dos eixos\n",
    "plt.ylabel(\"AGS (Mb)\",fontsize=\"16\")\n",
    "plt.xlabel(\"Amostras\",fontsize=\"16\")\n",
    "\n",
    "\n",
    "plt.xticks(range(len(new_df.index)), new_df.index,rotation=\"vertical\")\n",
    "\n",
    "plt.show()"
   ]
  },
  {
   "cell_type": "markdown",
   "metadata": {},
   "source": [
    "# Prática:\n",
    "\n",
    "- Gere um gráfico de barras com a coluna GE apénas para o grupo 1 (FILTER_MIN = 0.1)\n",
    "- Adicione a legenda para o eixo x (xticks) com uma rotação de 45 graus usando o nome das amostras"
   ]
  },
  {
   "cell_type": "code",
   "execution_count": null,
   "metadata": {
    "collapsed": true
   },
   "outputs": [],
   "source": []
  },
  {
   "cell_type": "code",
   "execution_count": null,
   "metadata": {
    "collapsed": true
   },
   "outputs": [],
   "source": []
  },
  {
   "cell_type": "markdown",
   "metadata": {},
   "source": [
    "### Criando gráficos mais complicados:\n",
    "\n",
    "- Gerando gráficos para os 3 grupos (g1, g2 e g3), com cores diferentes e uma linha definindo o valor médio para cada grupo"
   ]
  },
  {
   "cell_type": "code",
   "execution_count": null,
   "metadata": {},
   "outputs": [],
   "source": [
    "sns.set_style(\"white\")\n",
    "\n",
    "plt.figure(figsize=(15,10))\n",
    "\n",
    "#Aqui nós vamos gerar uma única figura com 3 gráficos de barra\n",
    "\n",
    "plt.bar(g1_.index,g1_[\"AGS (mb)\"],color=\"b\") # -> color b=blue, cada gráfico usa uma cor diferente\n",
    "\n",
    "plt.bar(g2_.index,g2_[\"AGS (mb)\"],color=\"c\")\n",
    "\n",
    "plt.bar(g3_.index,g3_[\"AGS (mb)\"],color=\"r\")\n",
    "\n",
    "plt.ylabel(\"AGS (mb)\",size=\"16\") \n",
    "plt.xticks(range(len(merged)), merged[\"Sample\"], size='small',rotation=\"vertical\")\n",
    "plt.legend(merged[\"FILTER_MIN\"].drop_duplicates())\n",
    "\n",
    "#Aqui nós adicionamos 3 linhas horizontais (hlines) com a média de valores de AGS para cada grupo\n",
    "plt.hlines(g1_[\"AGS (mb)\"].astype(float).mean(),g1_.index[0],g1_.index[-1])\n",
    "plt.hlines(g2_[\"AGS (mb)\"].astype(float).mean(),g2_.index[0],g2_.index[-1])\n",
    "plt.hlines(g3_[\"AGS (mb)\"].astype(float).mean(),g3_.index[0],g3_.index[-1])\n",
    "plt.show()\n"
   ]
  },
  {
   "cell_type": "markdown",
   "metadata": {},
   "source": [
    "# Utilizando seaborn para criar gráficos mais elaborados"
   ]
  },
  {
   "cell_type": "code",
   "execution_count": null,
   "metadata": {},
   "outputs": [],
   "source": [
    "sns.set_style(\"white\")\n",
    "\n",
    "plt.figure(figsize=(15,10))\n",
    "x=merged.index\n",
    "y=\"AGS (mb)\"\n",
    "sns.barplot(x=x,y=y,hue=\"FILTER_MIN\",data=merged)\n",
    "plt.xticks(range(len(x)), merged[\"Sample\"], size='small',rotation=\"vertical\")\n",
    "plt.show()"
   ]
  },
  {
   "cell_type": "code",
   "execution_count": null,
   "metadata": {},
   "outputs": [],
   "source": [
    "sns.set_style(\"white\")\n",
    "\n",
    "plt.figure(figsize=(15,10))\n",
    "x=merged[\"FILTER_MIN\"]\n",
    "y=merged[\"AGS (mb)\"]\n",
    "sns.barplot(x,y)\n",
    "plt.show()"
   ]
  },
  {
   "cell_type": "code",
   "execution_count": null,
   "metadata": {},
   "outputs": [],
   "source": [
    "sns.set_style(\"white\")\n",
    "\n",
    "plt.figure(figsize=(15,10))\n",
    "x=merged[\"FILTER_MIN\"]\n",
    "y=merged[\"AGS (mb)\"]\n",
    "sns.violinplot(x,y)\n",
    "plt.show()"
   ]
  },
  {
   "cell_type": "code",
   "execution_count": null,
   "metadata": {},
   "outputs": [],
   "source": [
    "sns.set_style(\"white\")\n",
    "\n",
    "plt.figure(figsize=(15,10))\n",
    "x=merged[\"FILTER_MIN\"]\n",
    "y=merged[\"AGS (mb)\"]\n",
    "sns.boxplot(x,y)\n",
    "plt.show()"
   ]
  },
  {
   "cell_type": "markdown",
   "metadata": {},
   "source": [
    "# Prática:\n",
    "- crie gráficos do tipo violinos mas adicione pontos no gráfico"
   ]
  },
  {
   "cell_type": "code",
   "execution_count": null,
   "metadata": {
    "collapsed": true
   },
   "outputs": [],
   "source": []
  },
  {
   "cell_type": "code",
   "execution_count": null,
   "metadata": {
    "collapsed": true
   },
   "outputs": [],
   "source": []
  },
  {
   "cell_type": "markdown",
   "metadata": {},
   "source": [
    "## Explorando os dados, investigando as relações entre eles."
   ]
  },
  {
   "cell_type": "code",
   "execution_count": null,
   "metadata": {},
   "outputs": [],
   "source": [
    "#Correlação entre duas variáveis\n",
    "\n",
    "merged[[\"AGS (mb)\",\"temperature - (C)\"]].corr()"
   ]
  },
  {
   "cell_type": "markdown",
   "metadata": {},
   "source": [
    "## Vocês acham que AGS (Tamanho de genoma médio) tem correlação com a temperatura?"
   ]
  },
  {
   "cell_type": "code",
   "execution_count": null,
   "metadata": {},
   "outputs": [],
   "source": [
    "#Gráfico do tipo Scatter\n",
    "\n",
    "sns.set_style(\"white\")\n",
    "x=merged[\"AGS (mb)\"]\n",
    "y=merged[\"temperature - (C)\"]\n",
    "plt.figure(figsize=(15,10))\n",
    "plt.scatter(x,y)\n",
    "plt.ylabel(\"temperatura - (C)\",size=\"16\")\n",
    "plt.xlabel(\"AGS (mb)\",size=\"16\")\n",
    "plt.show()"
   ]
  },
  {
   "cell_type": "code",
   "execution_count": null,
   "metadata": {},
   "outputs": [],
   "source": [
    "sns.jointplot(\"temperature - (C)\", \"AGS (mb)\", data=merged, kind=\"reg\",\n",
    "                  xlim=(0, 20), ylim=(0, 3), color=\"r\", size=7)\n",
    "plt.show()"
   ]
  },
  {
   "cell_type": "code",
   "execution_count": null,
   "metadata": {},
   "outputs": [],
   "source": [
    "sns.jointplot(\"LATITUDE\", \"AGS (mb)\", data=merged, kind=\"reg\",\n",
    "                  xlim=(0, 20), ylim=(0, 3), color=\"r\", size=7)\n",
    "plt.show()"
   ]
  },
  {
   "cell_type": "markdown",
   "metadata": {},
   "source": [
    "# Prática: \n",
    "- Gere gráficos de correlação com outras variáveis"
   ]
  },
  {
   "cell_type": "code",
   "execution_count": null,
   "metadata": {
    "collapsed": true
   },
   "outputs": [],
   "source": []
  },
  {
   "cell_type": "code",
   "execution_count": null,
   "metadata": {
    "collapsed": true
   },
   "outputs": [],
   "source": []
  },
  {
   "cell_type": "code",
   "execution_count": null,
   "metadata": {
    "collapsed": true
   },
   "outputs": [],
   "source": [
    "# Remove rows only with 0\n",
    "df_2=df_2[(df_2.T != 0).any()]"
   ]
  },
  {
   "cell_type": "code",
   "execution_count": null,
   "metadata": {},
   "outputs": [],
   "source": [
    "df_2.columns"
   ]
  },
  {
   "cell_type": "code",
   "execution_count": null,
   "metadata": {
    "collapsed": true
   },
   "outputs": [],
   "source": [
    "# Um novo dataframe com apenas valor de RPKG para todas as amostras\n",
    "\n",
    "heat=df_2[[x for x in df_2.columns if \"CAM_SMPL\"in x ]]"
   ]
  },
  {
   "cell_type": "code",
   "execution_count": null,
   "metadata": {
    "collapsed": true
   },
   "outputs": [],
   "source": []
  },
  {
   "cell_type": "code",
   "execution_count": null,
   "metadata": {
    "scrolled": false
   },
   "outputs": [],
   "source": [
    "sns.clustermap(heat,figsize=(12,25),cbar_kws={'label': 'COGs RPKG'},yticklabels=False)\n",
    "#plt.savefig(\"../clustermap_cogs.pdf\", format = 'pdf', dpi = 300, bbox_inches = 'tight')\n",
    "plt.show()"
   ]
  },
  {
   "cell_type": "markdown",
   "metadata": {},
   "source": [
    "# Customizando cores"
   ]
  },
  {
   "cell_type": "code",
   "execution_count": null,
   "metadata": {
    "collapsed": true
   },
   "outputs": [],
   "source": [
    "import matplotlib.cm as cm\n",
    "from  matplotlib.colors import LinearSegmentedColormap"
   ]
  },
  {
   "cell_type": "code",
   "execution_count": null,
   "metadata": {
    "collapsed": true
   },
   "outputs": [],
   "source": [
    "c = [\"pink\",\"lightcoral\",\"red\",\"darkred\",\"black\"]\n",
    "v = [0,.25,.5,.75,1.]\n",
    "l = list(zip(v,c))\n",
    "cmap=LinearSegmentedColormap.from_list('rg',l, N=1024)"
   ]
  },
  {
   "cell_type": "code",
   "execution_count": null,
   "metadata": {
    "scrolled": true
   },
   "outputs": [],
   "source": [
    "sns.clustermap(heat,figsize=(12,25),cbar_kws={'label': 'COGs RPKG'},yticklabels=False,cmap=cmap)\n",
    "#plt.savefig(\"../clustermap_cogs.pdf\", format = 'pdf', dpi = 300, bbox_inches = 'tight')\n",
    "plt.show()"
   ]
  },
  {
   "cell_type": "markdown",
   "metadata": {},
   "source": [
    "# Gerando heatmap de log"
   ]
  },
  {
   "cell_type": "code",
   "execution_count": null,
   "metadata": {
    "collapsed": true
   },
   "outputs": [],
   "source": [
    "import numpy as np\n",
    "heat_log= heat.apply(lambda x: np.log10(x+0.001))"
   ]
  },
  {
   "cell_type": "code",
   "execution_count": null,
   "metadata": {
    "collapsed": true
   },
   "outputs": [],
   "source": [
    "c = [\"darkred\",\"red\",\"lightcoral\",\"white\",\"palegreen\",\"green\",\"darkgreen\"]\n",
    "v = [0,.15,.4,.5,0.6,.9,1.]\n",
    "l = list(zip(v,c))\n",
    "cmap=LinearSegmentedColormap.from_list('rg',l, N=1024)"
   ]
  },
  {
   "cell_type": "code",
   "execution_count": null,
   "metadata": {
    "scrolled": false
   },
   "outputs": [],
   "source": [
    "sns.clustermap(heat_log,figsize=(12,25),cbar_kws={'label': 'log2(COGs RPKG)'},yticklabels=False,cmap=cmap)\n",
    "#plt.savefig(\"../clustermap_cogs.pdf\", format = 'pdf', dpi = 300, bbox_inches = 'tight')\n",
    "plt.show()"
   ]
  },
  {
   "cell_type": "markdown",
   "metadata": {},
   "source": [
    "# Prática:\n",
    "\n",
    "- Gere os mesmos heatmaps, mas apenas para genes onde o pvalor ajustado for < 0.05."
   ]
  },
  {
   "cell_type": "code",
   "execution_count": null,
   "metadata": {
    "collapsed": true
   },
   "outputs": [],
   "source": []
  },
  {
   "cell_type": "code",
   "execution_count": null,
   "metadata": {
    "collapsed": true
   },
   "outputs": [],
   "source": []
  },
  {
   "cell_type": "markdown",
   "metadata": {},
   "source": [
    "# Volcano Plot"
   ]
  },
  {
   "cell_type": "code",
   "execution_count": null,
   "metadata": {},
   "outputs": [],
   "source": [
    "data = pd.read_csv('Tabelas/FoldChange.csv', delimiter=',', header=0)\n",
    "\n",
    "def volcanoplot(data):\n",
    "    #Foi necessário criar 4 listas para que os valores P e Foldchange pudessem ser discriminados no gráfico\n",
    "#    data = data.dropna()\n",
    "    pvalue1=[]\n",
    "    fold1 = []\n",
    "    pvalue2=[]\n",
    "    fold2 = []\n",
    "    \n",
    "    #Este loop vai adicionar pvalue e log2FoldChange se possuirem certos critérios\n",
    "    for header in range(0, len(data)):\n",
    "        if data.loc[header]['pvalue'] <= 0.01:\n",
    "            pvalue1.append(data.loc[header]['pvalue'])\n",
    "            fold1.append(data.loc[header]['log2FoldChange'])\n",
    "        if data.loc[header]['pvalue'] <= 0.01 and data.loc[header]['log2FoldChange'] > 1 or data.loc[header]['log2FoldChange'] < -1:\n",
    "            pvalue2.append(data.loc[header]['pvalue'])\n",
    "            fold2.append(data.loc[header]['log2FoldChange'])\n",
    "\n",
    "    fig = plt.figure()\n",
    "    fig, ax = plt.subplots()\n",
    "    fig.set_size_inches(16.5, 9.5)\n",
    "    ax.plot(data['log2FoldChange'], (np.log10(data['pvalue'])*-1), marker='o', linestyle='', ms=4, color='black')\n",
    "    #Se o valor p for menor que 0.01, os pontos serão vermelhos\n",
    "    ax.plot(fold1, (np.log10(pvalue1)*-1), marker='o', linestyle='', ms=4, color='red')\n",
    "    #Se o valor p for menor que 0.01 e o valor de fold change for > 1 ou < -1, os pontos serão roxos.\n",
    "    ax.plot(fold2, (np.log10(pvalue2)*-1), marker='o', linestyle='', ms=4, color='purple')\n",
    "    ax.set_xlabel('Fold Change', fontsize=14)\n",
    "    ax.set_ylabel('-log10 FDR', fontsize=14)\n",
    "    ax.set_title('Volcano plot', fontsize = 18)\n",
    "    ax.text(0.5, 0.5, r'Upregulated', fontsize=20)\n",
    "    ax.text(-1, 0.5, r'Downregulated', fontsize=20)\n",
    "\n",
    "    #ax.set_xlim([-9,9])\n",
    "\n",
    "    ax.grid(False)\n",
    "    plt.plot([0,0], [0,4], '--r', lw=1)\n",
    "    ax.set_xlim([-1.5,1.5])\n",
    "    plt.show()\n",
    "\n",
    "volcanoplot(data)"
   ]
  },
  {
   "cell_type": "markdown",
   "metadata": {},
   "source": [
    "# Prática\n",
    "### Gerem um Volcano Plot invertido!!!"
   ]
  },
  {
   "cell_type": "code",
   "execution_count": null,
   "metadata": {},
   "outputs": [],
   "source": []
  },
  {
   "cell_type": "code",
   "execution_count": null,
   "metadata": {},
   "outputs": [],
   "source": []
  },
  {
   "cell_type": "markdown",
   "metadata": {},
   "source": [
    "## Getting upregulated COGs  in the comparisons of different filtrations methods groups"
   ]
  },
  {
   "cell_type": "code",
   "execution_count": null,
   "metadata": {
    "collapsed": true
   },
   "outputs": [],
   "source": [
    "a=set(df_2[df_2[\"log2(FC)_g1/g3\"]>0].index)\n",
    "b=set(df_2[df_2[\"log2(FC)_g1/g2\"]>0].index)\n",
    "c=set(df_2[df_2[\"log2(FC)_g2/g3\"]>0].index)\n"
   ]
  },
  {
   "cell_type": "markdown",
   "metadata": {},
   "source": [
    "### Para instalar o pacote matplotlib_venn:\n",
    "\n",
    "- Por linha de comando\n",
    "\n",
    "```pip install --user matplotlib-venn```\n",
    "\n",
    "- Aqui no Jupyter\n",
    "\n",
    "```!pip install --user matplotlib-venn```\n",
    "\n",
    "- Mais informações sobre esse pacote em in https://pypi.org/project/matplotlib-venn/"
   ]
  },
  {
   "cell_type": "code",
   "execution_count": null,
   "metadata": {
    "collapsed": true
   },
   "outputs": [],
   "source": [
    "from matplotlib_venn import venn3,venn3_unweighted \n",
    "#!pip install matplotlib-venn"
   ]
  },
  {
   "cell_type": "code",
   "execution_count": null,
   "metadata": {},
   "outputs": [],
   "source": [
    "plt.figure(figsize=(10,10))\n",
    "\n",
    "\n",
    "vd = venn3_unweighted([a, b,c], ('up g1/g3', 'up g1/g2','up g2/g3'))\n",
    "\n",
    "plt.show()"
   ]
  },
  {
   "cell_type": "code",
   "execution_count": null,
   "metadata": {},
   "outputs": [],
   "source": [
    "plt.figure(figsize=(10,10))\n",
    "\n",
    "\n",
    "vd = venn3([a, b,c], ('up g1/g3', 'up g1/g2','up g2/g3'))\n",
    "\n",
    "plt.show()"
   ]
  },
  {
   "cell_type": "markdown",
   "metadata": {},
   "source": [
    "# Prática\n",
    "\n",
    "- Gere um heatmap para log2(FC) para genes up regulados das 3 comparações (g1/g2, g2/g3 and g1/g3)"
   ]
  },
  {
   "cell_type": "code",
   "execution_count": null,
   "metadata": {},
   "outputs": [],
   "source": []
  },
  {
   "cell_type": "code",
   "execution_count": null,
   "metadata": {},
   "outputs": [],
   "source": []
  },
  {
   "cell_type": "markdown",
   "metadata": {},
   "source": [
    "&nbsp;\n",
    "# Manhatam plot\n",
    "&nbsp;"
   ]
  },
  {
   "cell_type": "code",
   "execution_count": null,
   "metadata": {},
   "outputs": [],
   "source": [
    "df = pd.read_csv('Tabelas/Table_qtl.tsv', header=0, sep = '\\t')\n",
    "\n",
    "def manhatam(df):\n",
    "    manhatam = df[['chr', 'FDR']].sort_values(by='chr') #Organizando os valores baseado no número do cromossomo\n",
    "    manhatam['log10FDR'] = -np.log10(manhatam['FDR'].astype(float)) #Calculando valores de FDR como logaritmo na base 10\n",
    "    manhatam['chr'] = manhatam['chr'].astype('category')\n",
    "    manhatam['ind'] = range(len(manhatam))\n",
    "    manhatam = manhatam.replace([np.inf, -np.inf], np.nan).dropna(how=\"all\")\n",
    "\n",
    "    fig = plt.figure()\n",
    "    fig.set_size_inches(16.5, 9.5)\n",
    "    ax = fig.add_subplot(111)\n",
    "    colors = ['black','grey']\n",
    "    x_labels = []\n",
    "    x_labels_pos = []\n",
    "\n",
    "    for num, (name, group) in enumerate(manhatam.groupby('chr')):\n",
    "        group.plot(kind='scatter', x='ind', y='log10FDR', color=colors[num % len(colors)], ax=ax)\n",
    "        x_labels.append(name)\n",
    "        x_labels_pos.append((group['ind'].iloc[-1] - (group['ind'].iloc[-1] - group['ind'].iloc[0])/2))\n",
    "    \n",
    "\n",
    "\n",
    "    # Escondendo as barras da direita\n",
    "    ax.spines['right'].set_visible(False)\n",
    "    ax.spines['top'].set_visible(False)\n",
    "    # Só mostra valores nas barras da esquerda e de baixo\n",
    "    ax.yaxis.set_ticks_position('left')\n",
    "    ax.xaxis.set_ticks_position('bottom')\n",
    "    ax.set_ylim([0, manhatam['log10FDR'].max() + 10])\n",
    "    ax.set_xticks(x_labels_pos)\n",
    "    ax.set_xticklabels(x_labels)\n",
    "    ax.set_xlabel('Cromossomo', fontsize=14)\n",
    "    ax.set_ylabel('-log10 FDR', fontsize=14)\n",
    "    ax.set_title('Manhatam plot', fontsize = 18)\n",
    "    ax.plot([0,6580], [-np.log10(0.05),-np.log10(0.05)], '-r', lw=1)\n",
    "    plt.show()\n",
    "\n",
    "manhatam(df)"
   ]
  },
  {
   "cell_type": "markdown",
   "metadata": {},
   "source": [
    "# Prática\n",
    "\n",
    "- Faça um Manhatam Plot apenas dos Cromossomos 2 ao 14"
   ]
  },
  {
   "cell_type": "code",
   "execution_count": null,
   "metadata": {
    "collapsed": true
   },
   "outputs": [],
   "source": []
  },
  {
   "cell_type": "code",
   "execution_count": null,
   "metadata": {
    "collapsed": true
   },
   "outputs": [],
   "source": []
  },
  {
   "cell_type": "markdown",
   "metadata": {},
   "source": [
    "# PCA - Análise de componentes principais\n",
    "\n",
    " - Sobre PCA: https://stats.stackexchange.com/questions/2691/making-sense-of-principal-component-analysis-eigenvectors-eigenvalues"
   ]
  },
  {
   "cell_type": "code",
   "execution_count": null,
   "metadata": {
    "collapsed": true
   },
   "outputs": [],
   "source": [
    "from sklearn import preprocessing\n",
    "from sklearn.decomposition import PCA\n",
    "from itertools import cycle"
   ]
  },
  {
   "cell_type": "code",
   "execution_count": null,
   "metadata": {},
   "outputs": [],
   "source": [
    "heat.head(2)"
   ]
  },
  {
   "cell_type": "code",
   "execution_count": null,
   "metadata": {},
   "outputs": [],
   "source": [
    "len(heat)"
   ]
  },
  {
   "cell_type": "markdown",
   "metadata": {},
   "source": [
    "### Nós temos 164 COGs, o que significa que 164 variáveis serão transformadas em 2 ou mais dimensões."
   ]
  },
  {
   "cell_type": "code",
   "execution_count": null,
   "metadata": {
    "collapsed": true
   },
   "outputs": [],
   "source": [
    "df_pca=heat.T.reset_index()"
   ]
  },
  {
   "cell_type": "code",
   "execution_count": null,
   "metadata": {},
   "outputs": [],
   "source": [
    "df_pca.head()"
   ]
  },
  {
   "cell_type": "code",
   "execution_count": null,
   "metadata": {},
   "outputs": [],
   "source": [
    "merged.head()"
   ]
  },
  {
   "cell_type": "code",
   "execution_count": null,
   "metadata": {
    "collapsed": true
   },
   "outputs": [],
   "source": [
    "df_pca=pd.merge(merged[[\"Sample\",\"FILTER_MIN\"]],df_pca,left_on=\"Sample\",right_on=\"index\").drop(\"index\",axis=1)"
   ]
  },
  {
   "cell_type": "code",
   "execution_count": null,
   "metadata": {
    "collapsed": true
   },
   "outputs": [],
   "source": [
    "df_pca.set_index([\"Sample\",\"FILTER_MIN\"],inplace=True)"
   ]
  },
  {
   "cell_type": "code",
   "execution_count": null,
   "metadata": {},
   "outputs": [],
   "source": [
    "pca = PCA(copy=True, iterated_power='auto', n_components=2, random_state=None,\n",
    "  svd_solver='auto', tol=0.0, whiten=False)\n",
    "\n",
    "df_pca_scaled = preprocessing.scale(df_pca)\n",
    "projected=pca.fit_transform(df_pca_scaled)\n",
    "\n"
   ]
  },
  {
   "cell_type": "code",
   "execution_count": null,
   "metadata": {},
   "outputs": [],
   "source": [
    "print(pca.explained_variance_ratio_)\n"
   ]
  },
  {
   "cell_type": "code",
   "execution_count": null,
   "metadata": {
    "collapsed": true
   },
   "outputs": [],
   "source": [
    "final_pca=pd.merge(df_pca.reset_index(),pd.DataFrame(projected),left_index=True,right_index=True)"
   ]
  },
  {
   "cell_type": "markdown",
   "metadata": {},
   "source": [
    "### No dataframe final_PCA nós temos duas nnovas colunas (0 e 1) com resultados de PCA (2 componentes)"
   ]
  },
  {
   "cell_type": "code",
   "execution_count": null,
   "metadata": {},
   "outputs": [],
   "source": [
    "final_pca.head()"
   ]
  },
  {
   "cell_type": "code",
   "execution_count": null,
   "metadata": {
    "collapsed": true
   },
   "outputs": [],
   "source": [
    "final_pca.rename(columns={0: 'Component 1',1: 'Component 2'}, inplace=True)"
   ]
  },
  {
   "cell_type": "code",
   "execution_count": null,
   "metadata": {
    "scrolled": false
   },
   "outputs": [],
   "source": [
    "sns.set_style(\"white\")\n",
    "color_gen = cycle(('blue', 'green', 'red'))\n",
    "plt.figure(figsize=(10,10))\n",
    "for lab in set(final_pca[\"FILTER_MIN\"]):\n",
    "    plt.scatter(final_pca.loc[final_pca['FILTER_MIN'] == lab, 'Component 1'], \n",
    "                final_pca.loc[final_pca['FILTER_MIN'] == lab, 'Component 2'], \n",
    "                c=next(color_gen),\n",
    "                label=lab)\n",
    "\n",
    "    \n",
    "    \n",
    "plt.xlabel('component 1  - ' + str(pca.explained_variance_ratio_[0]*100)+ \" % \" )\n",
    "plt.ylabel('component 2  - '+ str(pca.explained_variance_ratio_[1]*100)+ \"  % \" )\n",
    "plt.legend(loc='best')\n",
    "plt.show()"
   ]
  },
  {
   "cell_type": "markdown",
   "metadata": {},
   "source": [
    "# Prática:\n",
    "\n",
    "- Gere o mesmo gráfico para PCA, mas altere os textos das fflechas (Mantenha só o número COG, remova as descrições)"
   ]
  },
  {
   "cell_type": "code",
   "execution_count": null,
   "metadata": {
    "collapsed": true
   },
   "outputs": [],
   "source": []
  },
  {
   "cell_type": "code",
   "execution_count": null,
   "metadata": {
    "collapsed": true
   },
   "outputs": [],
   "source": []
  },
  {
   "cell_type": "code",
   "execution_count": null,
   "metadata": {
    "collapsed": true
   },
   "outputs": [],
   "source": []
  }
 ],
 "metadata": {
  "kernelspec": {
   "display_name": "Python 3",
   "language": "python",
   "name": "python3"
  },
  "language_info": {
   "codemirror_mode": {
    "name": "ipython",
    "version": 3
   },
   "file_extension": ".py",
   "mimetype": "text/x-python",
   "name": "python",
   "nbconvert_exporter": "python",
   "pygments_lexer": "ipython3",
   "version": "3.6.4"
  }
 },
 "nbformat": 4,
 "nbformat_minor": 2
}
